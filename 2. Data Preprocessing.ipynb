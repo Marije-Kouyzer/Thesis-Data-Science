{
 "cells": [
  {
   "cell_type": "code",
   "execution_count": 1,
   "id": "b5097318-f17d-44a9-9904-f3243df7e279",
   "metadata": {},
   "outputs": [],
   "source": [
    "# imports\n",
    "import pandas as pd\n",
    "import matplotlib.pyplot as plt\n",
    "import statistics"
   ]
  },
  {
   "cell_type": "code",
   "execution_count": 2,
   "id": "0e46b594-ab12-4262-a207-9d9c85a635ae",
   "metadata": {},
   "outputs": [],
   "source": [
    "# read oti csv file in\n",
    "file_path_oti = 'D:\\\\sentences_sonar\\\\sentences_sonar_om.csv'\n",
    "df_oti = pd.read_csv(file_path_oti)"
   ]
  },
  {
   "cell_type": "code",
   "execution_count": 3,
   "id": "31d88a32-12f8-465b-b548-75535f832237",
   "metadata": {},
   "outputs": [],
   "source": [
    "# read ti csv file in\n",
    "file_path_ti = 'D:\\\\sentences_sonar\\\\sentences_sonar_te.csv'\n",
    "df_ti = pd.read_csv(file_path_ti)\n",
    "df_ti['Category'] = 'ti'"
   ]
  },
  {
   "cell_type": "code",
   "execution_count": 4,
   "id": "51775437-06e4-4077-a0a2-47f4376ffe3f",
   "metadata": {},
   "outputs": [],
   "source": [
    "# read oti csv file in\n",
    "file_path_niet = 'D:\\\\sentences_sonar\\\\sentences_sonar_niet.csv'\n",
    "df_niet = pd.read_csv(file_path_niet)"
   ]
  },
  {
   "cell_type": "code",
   "execution_count": 5,
   "id": "a98ce3bb-02c4-41b1-9f29-20f170407f2a",
   "metadata": {},
   "outputs": [
    {
     "name": "stdout",
     "output_type": "stream",
     "text": [
      "number of oti sentences:  (803119, 7)\n",
      "number of ti sentences:  (722619, 7)\n",
      "number of niet sentences:  (14588, 8)\n"
     ]
    }
   ],
   "source": [
    "print('number of oti sentences: ', df_oti.shape)\n",
    "print('number of ti sentences: ', df_ti.shape)\n",
    "print('number of niet sentences: ', df_niet.shape)"
   ]
  },
  {
   "cell_type": "markdown",
   "id": "617666d2-d615-4008-b688-5385a0a510a6",
   "metadata": {},
   "source": [
    "# Filtering for Verbs"
   ]
  },
  {
   "cell_type": "markdown",
   "id": "65fbb5b5-8230-440e-a2a9-2be9889193c4",
   "metadata": {},
   "source": [
    "### Counting Verbs"
   ]
  },
  {
   "cell_type": "code",
   "execution_count": 8,
   "id": "e830ab3e-2f3e-41a3-9ef7-bc4558c579ab",
   "metadata": {},
   "outputs": [],
   "source": [
    "# get the verbs from the different categories\n",
    "oti_verbs = df_oti['Verb']\n",
    "ti_verbs = df_ti['Verb']\n",
    "\n",
    "# see which verbs are more than 10 times in oti and ti\n",
    "oti_verb_count = {}\n",
    "for v in oti_verbs:\n",
    "    if v in oti_verb_count.keys():\n",
    "        oti_verb_count[v] += 1\n",
    "    else:\n",
    "        oti_verb_count[v] = 1\n",
    "\n",
    "ti_verb_count = {}\n",
    "for v in ti_verbs:\n",
    "    if v in ti_verb_count.keys():\n",
    "        ti_verb_count[v] += 1\n",
    "    else:\n",
    "        ti_verb_count[v] = 1\n",
    "\n",
    "verbs_tenplus_oti = []\n",
    "for k in oti_verb_count:\n",
    "    if oti_verb_count[k] > 10:\n",
    "        verbs_tenplus_oti.append(k)\n",
    "verbs_tenplus_ti = []\n",
    "for k in ti_verb_count:\n",
    "    if ti_verb_count[k] > 10:\n",
    "        verbs_tenplus_ti.append(k)\n",
    "\n",
    "# add these verbs to a list\n",
    "verb_list = []\n",
    "for verb in verbs_tenplus_oti:\n",
    "    if verb in verbs_tenplus_ti:\n",
    "        verb_list.append(verb)"
   ]
  },
  {
   "cell_type": "code",
   "execution_count": 9,
   "id": "e210f476-689d-4787-820e-a278d1c7b2cd",
   "metadata": {},
   "outputs": [
    {
     "data": {
      "text/plain": [
       "241"
      ]
     },
     "execution_count": 9,
     "metadata": {},
     "output_type": "execute_result"
    }
   ],
   "source": [
    "len(verb_list)"
   ]
  },
  {
   "cell_type": "markdown",
   "id": "be152128-e162-49a8-830c-5338488237c9",
   "metadata": {},
   "source": [
    "### Checking a few sentences per sentence"
   ]
  },
  {
   "cell_type": "code",
   "execution_count": 11,
   "id": "41aab5a1-27ca-4155-9bce-04cad112a346",
   "metadata": {
    "scrolled": true
   },
   "outputs": [],
   "source": [
    "# show 2 sentences for each verb in the oti group\n",
    "# for i in verb_list:\n",
    "#     print(i)\n",
    "#     for j in df_oti.loc[df_oti['Verb'] == i]['Sentence'].values[:2]:\n",
    "#         print(j)\n",
    "#     print('-' * 25)"
   ]
  },
  {
   "cell_type": "code",
   "execution_count": 12,
   "id": "fe7b9735-8795-41fb-835d-0986cbb02530",
   "metadata": {
    "scrolled": true
   },
   "outputs": [],
   "source": [
    "# show 2 sentences for each verb in the ti group\n",
    "# for i in verb_list:\n",
    "#     print(i)\n",
    "#     for j in df_ti.loc[df_ti['Verb'] == i]['Sentence'].values[:2]:\n",
    "#         print(j)\n",
    "#     print('-' * 25)"
   ]
  },
  {
   "cell_type": "code",
   "execution_count": 13,
   "id": "aa575c54-538e-41ea-8e54-a34da77ec65c",
   "metadata": {
    "scrolled": true
   },
   "outputs": [],
   "source": [
    "# show 2 sentences for each verb in the niet + ti group\n",
    "# for i in verb_list:\n",
    "#     print(i)\n",
    "#     for j in df_niet.loc[df_niet['Verb'] == i]['Sentence'].values[:2]:\n",
    "#         print(j)\n",
    "#     print('-' * 25)"
   ]
  },
  {
   "cell_type": "markdown",
   "id": "3563ea99-f6d8-484b-bb71-91fd44bc6c69",
   "metadata": {},
   "source": [
    "### Filtering"
   ]
  },
  {
   "cell_type": "code",
   "execution_count": 15,
   "id": "00481dd5-abb8-43f1-a2b6-8ab0528f4fd6",
   "metadata": {},
   "outputs": [],
   "source": [
    "# filter the verbs to only get verbs with optional 'om' construction\n",
    "verbs_to_filter = ['hebben', 'zijn', 'krijgen', 'maken', 'staan', 'worden', 'gaan', 'zullen', 'moeten', 'vinden', 'doen', 'willen', 'blijven', 'kunnen',\n",
    "'zien', 'halen', 'nemen', 'geven', 'voelen', 'laten', 'lopen', 'liggen', 'vallen', 'zetten', 'schijnen', 'achten', 'in_zien', 'getuigen',\n",
    "'onderstrepen', 'erkennen', 'beklemtonen', 'claimen', 'zweren', 'lijken', 'beginnen', 'komen', 'blijken', 'hoeven', 'zitten', 'denken', 'werken',\n",
    "'mogen', 'weten', 'schrijven', 'zeggen', 'stoppen', 'durven', 'houden', 'stellen', 'bestaan', 'steunen', 'op_geven', 'herinneren', 'roepen',\n",
    "'voor_hebben', 'beschuldigen', 'geloven', 'waarschuwen', 'wachten', 'antwoorden', 'ijveren', 'dreigen', 'melden', 'behoren', 'haten', 'toe_geven',\n",
    "'voor_houden', 'bewijzen', 'bedoelen', 'zorgen', 'gelijk_hebben', 'herhalen', 'hangen', 'aan_geven', 'duren', 'verklaren', 'noemen', 'behoeven',\n",
    "'vertellen', 'horen', 'menen', 'heten', 'af_spreken', 'bekennen', 'ontdekken', 'op_houden', 'toe_voegen', 'toe_komen', 'bewegen', 'op_gaan', 'drukken',\n",
    "'beschouwen', 'aanvaarden', 'toe_wensen', 'op_merken', 'trachten', 'over_laten', 'vermoeden', 'verwijten', 'vermelden', 'aan_tonen', 'beweren',\n",
    "'schreeuwen', 'veinzen', 'pretenderen', 'garanderen', 'pogen', 'bevestigen', 'plegen', 'verbazen', 'door_gaan', 'ontkennen', 'verkondigen',\n",
    "'bestrijden', 'benadrukken', 'nodigen', 'aan_gaan', 'suggereren', 'betreuren', 'onthullen', 'voort_gaan', 'verzekeren', 'gebaren', 'mee_delen']\n",
    "\n",
    "verb_list_filtered = [i for i in verb_list if i not in verbs_to_filter]"
   ]
  },
  {
   "cell_type": "code",
   "execution_count": 16,
   "id": "1a70e4e4-8fd2-46ac-b4e6-31b18f17f3b0",
   "metadata": {},
   "outputs": [
    {
     "data": {
      "text/plain": [
       "117"
      ]
     },
     "execution_count": 16,
     "metadata": {},
     "output_type": "execute_result"
    }
   ],
   "source": [
    "len(verb_list_filtered)"
   ]
  },
  {
   "cell_type": "code",
   "execution_count": 17,
   "id": "aa195cd2-fdcd-46a4-8d2a-d3048a574dd6",
   "metadata": {},
   "outputs": [],
   "source": [
    "df_oti_filtered = df_oti.loc[df_oti['Verb'].isin(verb_list_filtered)]\n",
    "df_ti_filtered = df_ti.loc[df_ti['Verb'].isin(verb_list_filtered)]\n",
    "df_niet_filtered = df_niet.loc[df_niet['Verb'].isin(verb_list_filtered)]"
   ]
  },
  {
   "cell_type": "code",
   "execution_count": 18,
   "id": "0ce39728-8b98-48fb-9e36-bdcac14b525c",
   "metadata": {},
   "outputs": [
    {
     "name": "stdout",
     "output_type": "stream",
     "text": [
      "number of oti sentences:  (60014, 7)\n",
      "number of ti sentences:  (170836, 7)\n",
      "number of niet sentences:  (3016, 8)\n"
     ]
    }
   ],
   "source": [
    "print('number of oti sentences: ', df_oti_filtered.shape)\n",
    "print('number of ti sentences: ', df_ti_filtered.shape)\n",
    "print('number of niet sentences: ', df_niet_filtered.shape)"
   ]
  },
  {
   "cell_type": "markdown",
   "id": "4716613b-c87c-4df5-bacd-c200cc2f1c0a",
   "metadata": {
    "jp-MarkdownHeadingCollapsed": true
   },
   "source": [
    "# Removing Overlap Between Groups"
   ]
  },
  {
   "cell_type": "code",
   "execution_count": 20,
   "id": "c1e8a562-e5a0-4343-ab2f-aa50065325f1",
   "metadata": {},
   "outputs": [
    {
     "data": {
      "text/plain": [
       "5668"
      ]
     },
     "execution_count": 20,
     "metadata": {},
     "output_type": "execute_result"
    }
   ],
   "source": [
    "# checking overlap between oti and ti\n",
    "filenames_overlap_oti_ti = set(df_oti_filtered['Filename']) & set(df_ti_filtered['Filename'])\n",
    "len(filenames_overlap_oti_ti)"
   ]
  },
  {
   "cell_type": "code",
   "execution_count": 21,
   "id": "eeda8a48-0b09-4a8c-8c9d-3ddc7c777980",
   "metadata": {},
   "outputs": [
    {
     "data": {
      "text/plain": [
       "3015"
      ]
     },
     "execution_count": 21,
     "metadata": {},
     "output_type": "execute_result"
    }
   ],
   "source": [
    "# checking overlap between ti and niet + ti\n",
    "filenames_overlap_ti_niet = set(df_ti_filtered['Filename']) & set(df_niet_filtered['Filename'])\n",
    "len(filenames_overlap_ti_niet)"
   ]
  },
  {
   "cell_type": "code",
   "execution_count": 22,
   "id": "a56d8ce9-24a2-4ad6-9c3d-5e1c46396034",
   "metadata": {},
   "outputs": [
    {
     "data": {
      "text/plain": [
       "55"
      ]
     },
     "execution_count": 22,
     "metadata": {},
     "output_type": "execute_result"
    }
   ],
   "source": [
    "# check overlap between oti and niet + ti\n",
    "filenames_overlap_oti_niet = set(df_oti_filtered['Filename']) & set(df_niet_filtered['Filename'])\n",
    "len(filenames_overlap_oti_niet)"
   ]
  },
  {
   "cell_type": "code",
   "execution_count": 23,
   "id": "a3b5ab96-b32c-470e-9b2b-d9c541699efa",
   "metadata": {},
   "outputs": [],
   "source": [
    "# delete filenames_overlap_oti_ti from both oti and ti categories by filtering on files that are not in the list\n",
    "df_oti_filtered = df_oti_filtered[~df_oti_filtered[\"Filename\"].isin(filenames_overlap_oti_ti)] # ~ inverts the mask\n",
    "df_ti_filtered = df_ti_filtered[~df_ti_filtered[\"Filename\"].isin(filenames_overlap_oti_ti)]"
   ]
  },
  {
   "cell_type": "code",
   "execution_count": 24,
   "id": "70b5c51e-974c-4ad6-b85b-0a0bf2b3ff71",
   "metadata": {},
   "outputs": [],
   "source": [
    "# delete filenames_overlap_ti_niet from 'ti' category\n",
    "df_ti_filtered = df_ti_filtered[~df_ti_filtered[\"Filename\"].isin(filenames_overlap_ti_niet)] # ~ inverts the mask"
   ]
  },
  {
   "cell_type": "code",
   "execution_count": 25,
   "id": "e4d6e6ec-b9c4-4ffc-b45f-95d95954cef4",
   "metadata": {},
   "outputs": [],
   "source": [
    "# delete filenames_overlap_oti_niet from both oti and niet categories\n",
    "df_oti_filtered = df_oti_filtered[~df_oti_filtered[\"Filename\"].isin(filenames_overlap_oti_niet)] # ~ inverts the mask\n",
    "df_niet_filtered = df_niet_filtered[~df_niet_filtered[\"Filename\"].isin(filenames_overlap_oti_niet)]"
   ]
  },
  {
   "cell_type": "code",
   "execution_count": 26,
   "id": "715c2882-81d9-40de-8e21-7d7ab01bfb6d",
   "metadata": {},
   "outputs": [
    {
     "name": "stdout",
     "output_type": "stream",
     "text": [
      "number of oti sentences:  (54346, 7)\n",
      "number of ti sentences:  (162208, 7)\n",
      "number of niet sentences:  (2961, 8)\n"
     ]
    }
   ],
   "source": [
    "print('number of oti sentences: ', df_oti_filtered.shape)\n",
    "print('number of ti sentences: ', df_ti_filtered.shape)\n",
    "print('number of niet sentences: ', df_niet_filtered.shape)"
   ]
  },
  {
   "cell_type": "markdown",
   "id": "c12e0cc9-d494-497a-8c81-57e811d3434c",
   "metadata": {},
   "source": [
    "# Removing Overlap Within Groups"
   ]
  },
  {
   "cell_type": "code",
   "execution_count": 28,
   "id": "2726353e-5dda-4ff7-8abc-e2fd90e47f70",
   "metadata": {},
   "outputs": [],
   "source": [
    "df_oti_filtered = df_oti_filtered.drop_duplicates(subset='Sentence')\n",
    "df_ti_filtered = df_ti_filtered.drop_duplicates(subset='Sentence')\n",
    "df_niet_filtered = df_niet_filtered.drop_duplicates(subset='Sentence')"
   ]
  },
  {
   "cell_type": "markdown",
   "id": "362b24e8-73ae-45ce-ad63-3683f3c43f7f",
   "metadata": {},
   "source": [
    "# Adding Sentence Length and Removing Outliers"
   ]
  },
  {
   "cell_type": "code",
   "execution_count": 30,
   "id": "5609d76e-b9cf-49f3-82de-0693b8a7a29d",
   "metadata": {},
   "outputs": [],
   "source": [
    "df_niet_filtered = df_niet_filtered.drop(labels='Unnamed: 0', axis='columns')"
   ]
  },
  {
   "cell_type": "code",
   "execution_count": 31,
   "id": "833b0d13-c3ca-4b67-837a-7bf0d6b2e430",
   "metadata": {},
   "outputs": [],
   "source": [
    "df_filtered = pd.concat([df_oti_filtered, df_ti_filtered, df_niet_filtered])"
   ]
  },
  {
   "cell_type": "code",
   "execution_count": 32,
   "id": "75f21c14-1d68-4d0b-bb50-409583949fb3",
   "metadata": {},
   "outputs": [],
   "source": [
    "# add Sentence Length column to dataframe with the length of the sentence\n",
    "df_filtered = df_filtered.reset_index()\n",
    "for i in range(df_filtered.shape[0]):\n",
    "    df_filtered.loc[i, 'Sentence_length'] = len(df_filtered['Sentence'][i].split())"
   ]
  },
  {
   "cell_type": "code",
   "execution_count": 33,
   "id": "9af8ab46-2f94-4d0a-a561-3553bab869c7",
   "metadata": {},
   "outputs": [],
   "source": [
    "Q1 = df_filtered['Sentence_length'].quantile(0.25)\n",
    "Q3 = df_filtered['Sentence_length'].quantile(0.75)\n",
    "IQR = Q3 - Q1\n",
    "lower = Q1 - 1.5 * IQR\n",
    "upper = Q3 + 1.5 * IQR"
   ]
  },
  {
   "cell_type": "code",
   "execution_count": 34,
   "id": "ae075a34-6309-4d39-bb7a-1e47a883eb1a",
   "metadata": {},
   "outputs": [
    {
     "data": {
      "text/plain": [
       "49.0"
      ]
     },
     "execution_count": 34,
     "metadata": {},
     "output_type": "execute_result"
    }
   ],
   "source": [
    "upper"
   ]
  },
  {
   "cell_type": "code",
   "execution_count": 35,
   "id": "d465a5d1-3a33-4211-aecb-a3b19d41b4bf",
   "metadata": {},
   "outputs": [],
   "source": [
    "df_no_outliers = df_filtered[(df_filtered['Sentence_length'] > lower) & (df_filtered['Sentence_length'] <= upper)]"
   ]
  },
  {
   "cell_type": "code",
   "execution_count": 36,
   "id": "fba9c49d-03a8-4d95-a79c-79d151ee9027",
   "metadata": {},
   "outputs": [
    {
     "data": {
      "text/plain": [
       "Category\n",
       "ti           143861\n",
       "oti           48396\n",
       "niet + ti      2645\n",
       "Name: count, dtype: int64"
      ]
     },
     "execution_count": 36,
     "metadata": {},
     "output_type": "execute_result"
    }
   ],
   "source": [
    "df_no_outliers['Category'].value_counts()"
   ]
  },
  {
   "cell_type": "code",
   "execution_count": 37,
   "id": "0bda47c2-a9a6-4b10-92bd-a373ee14286a",
   "metadata": {},
   "outputs": [
    {
     "name": "stdout",
     "output_type": "stream",
     "text": [
      "20.0\n"
     ]
    },
    {
     "name": "stderr",
     "output_type": "stream",
     "text": [
      "C:\\Users\\marij\\AppData\\Local\\Temp\\ipykernel_6928\\2359040329.py:6: SettingWithCopyWarning: \n",
      "A value is trying to be set on a copy of a slice from a DataFrame.\n",
      "Try using .loc[row_indexer,col_indexer] = value instead\n",
      "\n",
      "See the caveats in the documentation: https://pandas.pydata.org/pandas-docs/stable/user_guide/indexing.html#returning-a-view-versus-a-copy\n",
      "  df_no_outliers['Length Label'] = ['short' if x < cutoff else 'long' for x in df_no_outliers['Sentence_length']]\n"
     ]
    }
   ],
   "source": [
    "# use the median of the sentence length as the cutoff between long and short sentences\n",
    "cutoff = statistics.median(df_no_outliers['Sentence_length'])\n",
    "print(cutoff)\n",
    "\n",
    "# adding a short/long label to dataframe based on cutoff\n",
    "df_no_outliers['Length Label'] = ['short' if x < cutoff else 'long' for x in df_no_outliers['Sentence_length']]"
   ]
  },
  {
   "cell_type": "markdown",
   "id": "98b6dc1d-b9c7-4c12-862c-66fe3981720f",
   "metadata": {},
   "source": [
    "# Make All the Groups the Same Size"
   ]
  },
  {
   "cell_type": "code",
   "execution_count": 39,
   "id": "31c72684-45d7-4ae3-b549-b4c155f05480",
   "metadata": {},
   "outputs": [],
   "source": [
    "# make groups the same size (the size of the smallest group)\n",
    "df_same_size = df_no_outliers.groupby('Category').nth[:min(df_no_outliers['Category'].value_counts())]"
   ]
  },
  {
   "cell_type": "code",
   "execution_count": 40,
   "id": "38934204-e60b-457d-95e0-537b087f71c2",
   "metadata": {},
   "outputs": [
    {
     "data": {
      "text/plain": [
       "Category\n",
       "oti          2645\n",
       "ti           2645\n",
       "niet + ti    2645\n",
       "Name: count, dtype: int64"
      ]
     },
     "execution_count": 40,
     "metadata": {},
     "output_type": "execute_result"
    }
   ],
   "source": [
    "df_same_size['Category'].value_counts()"
   ]
  },
  {
   "cell_type": "code",
   "execution_count": 41,
   "id": "4922bd45-c74d-4b33-b158-293cd2f9f3c2",
   "metadata": {},
   "outputs": [
    {
     "data": {
      "text/plain": [
       "Length Label\n",
       "long     4275\n",
       "short    3660\n",
       "Name: count, dtype: int64"
      ]
     },
     "execution_count": 41,
     "metadata": {},
     "output_type": "execute_result"
    }
   ],
   "source": [
    "df_same_size['Length Label'].value_counts()"
   ]
  },
  {
   "cell_type": "code",
   "execution_count": 42,
   "id": "5f7a0d55-d79f-4b99-92e8-c877f70d7740",
   "metadata": {},
   "outputs": [
    {
     "data": {
      "text/plain": [
       "Length Label\n",
       "long     1685\n",
       "short     960\n",
       "Name: count, dtype: int64"
      ]
     },
     "execution_count": 42,
     "metadata": {},
     "output_type": "execute_result"
    }
   ],
   "source": [
    "df_same_size[df_same_size['Category'] == 'oti']['Length Label'].value_counts()"
   ]
  },
  {
   "cell_type": "code",
   "execution_count": 43,
   "id": "ccbb3945-4fd4-4bed-b512-40b177f05294",
   "metadata": {},
   "outputs": [
    {
     "data": {
      "text/plain": [
       "Length Label\n",
       "long     1358\n",
       "short    1287\n",
       "Name: count, dtype: int64"
      ]
     },
     "execution_count": 43,
     "metadata": {},
     "output_type": "execute_result"
    }
   ],
   "source": [
    "df_same_size[df_same_size['Category'] == 'ti']['Length Label'].value_counts()"
   ]
  },
  {
   "cell_type": "code",
   "execution_count": 44,
   "id": "59740469-21b1-4fce-bce3-116a7233fe81",
   "metadata": {},
   "outputs": [
    {
     "data": {
      "text/plain": [
       "Length Label\n",
       "short    1413\n",
       "long     1232\n",
       "Name: count, dtype: int64"
      ]
     },
     "execution_count": 44,
     "metadata": {},
     "output_type": "execute_result"
    }
   ],
   "source": [
    "df_same_size[df_same_size['Category'] == 'niet + ti']['Length Label'].value_counts()"
   ]
  },
  {
   "cell_type": "markdown",
   "id": "2b9a4488-ad14-46fe-80e8-35589062a087",
   "metadata": {},
   "source": [
    "# Saving Filtered Sentences to CSV"
   ]
  },
  {
   "cell_type": "code",
   "execution_count": 46,
   "id": "d071e7bd-fa96-43a3-b982-dec03b726be9",
   "metadata": {},
   "outputs": [],
   "source": [
    "df_same_size.to_csv(\"D:\\\\preprocessed_sentences.csv\")"
   ]
  }
 ],
 "metadata": {
  "kernelspec": {
   "display_name": "Python 3 (ipykernel)",
   "language": "python",
   "name": "python3"
  },
  "language_info": {
   "codemirror_mode": {
    "name": "ipython",
    "version": 3
   },
   "file_extension": ".py",
   "mimetype": "text/x-python",
   "name": "python",
   "nbconvert_exporter": "python",
   "pygments_lexer": "ipython3",
   "version": "3.12.4"
  }
 },
 "nbformat": 4,
 "nbformat_minor": 5
}
