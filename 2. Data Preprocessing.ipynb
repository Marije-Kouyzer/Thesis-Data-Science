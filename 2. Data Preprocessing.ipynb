{
 "cells": [
  {
   "cell_type": "code",
   "execution_count": 1,
   "id": "b5097318-f17d-44a9-9904-f3243df7e279",
   "metadata": {},
   "outputs": [],
   "source": [
    "# imports\n",
    "import pandas as pd\n",
    "import matplotlib.pyplot as plt"
   ]
  },
  {
   "cell_type": "code",
   "execution_count": 2,
   "id": "0e46b594-ab12-4262-a207-9d9c85a635ae",
   "metadata": {},
   "outputs": [],
   "source": [
    "# read csv file in\n",
    "file_path = 'D:\\\\sentences_Lassy_Klein_no_filtering.csv'\n",
    "df = pd.read_csv(file_path)"
   ]
  },
  {
   "cell_type": "markdown",
   "id": "617666d2-d615-4008-b688-5385a0a510a6",
   "metadata": {},
   "source": [
    "# Filtering for Verbs"
   ]
  },
  {
   "cell_type": "code",
   "execution_count": 4,
   "id": "e830ab3e-2f3e-41a3-9ef7-bc4558c579ab",
   "metadata": {},
   "outputs": [],
   "source": [
    "# get the verbs from the different categories\n",
    "oti_verbs = df[df['Category'] == 'oti']['Verb']\n",
    "ti_verbs = df[df['Category'] == 'ti']['Verb']\n",
    "\n",
    "# see which verbs are more than 10 times in oti and ti\n",
    "oti_verb_count = {}\n",
    "for v in oti_verbs:\n",
    "    if v in oti_verb_count.keys():\n",
    "        oti_verb_count[v] += 1\n",
    "    else:\n",
    "        oti_verb_count[v] = 1\n",
    "\n",
    "ti_verb_count = {}\n",
    "for v in ti_verbs:\n",
    "    if v in ti_verb_count.keys():\n",
    "        ti_verb_count[v] += 1\n",
    "    else:\n",
    "        ti_verb_count[v] = 1\n",
    "\n",
    "verbs_tenplus_oti = []\n",
    "for k in oti_verb_count:\n",
    "    if oti_verb_count[k] > 10:\n",
    "        verbs_tenplus_oti.append(k)\n",
    "verbs_tenplus_ti = []\n",
    "for k in ti_verb_count:\n",
    "    if ti_verb_count[k] > 10:\n",
    "        verbs_tenplus_ti.append(k)\n",
    "\n",
    "verbs_tenplus_ti\n",
    "        \n",
    "verb_list = []\n",
    "for verb in verbs_tenplus_oti:\n",
    "    if verb in verbs_tenplus_ti:\n",
    "        verb_list.append(verb)"
   ]
  },
  {
   "cell_type": "code",
   "execution_count": 5,
   "id": "00481dd5-abb8-43f1-a2b6-8ab0528f4fd6",
   "metadata": {},
   "outputs": [],
   "source": [
    "# filter the verbs to only get verbs with optional 'om' construction\n",
    "verb_list_filtered = [i for i in verb_list if i not in ['hebben', 'zijn', 'lijken', 'krijgen', 'maken', 'staan', 'beginnen', 'komen', 'blijken']]"
   ]
  },
  {
   "cell_type": "code",
   "execution_count": 6,
   "id": "aa195cd2-fdcd-46a4-8d2a-d3048a574dd6",
   "metadata": {},
   "outputs": [],
   "source": [
    "df_filtered = df.loc[df['Verb'].isin(verb_list_filtered)]"
   ]
  },
  {
   "cell_type": "markdown",
   "id": "4716613b-c87c-4df5-bacd-c200cc2f1c0a",
   "metadata": {},
   "source": [
    "# Removing Overlap Between Sentences"
   ]
  },
  {
   "cell_type": "code",
   "execution_count": 8,
   "id": "c1e8a562-e5a0-4343-ab2f-aa50065325f1",
   "metadata": {},
   "outputs": [],
   "source": [
    "# checking overlap between oti and ti\n",
    "filenames_overlap_oti_ti = []\n",
    "for i in df_filtered[df_filtered['Category'] == 'oti']['Filename']:\n",
    "    for j in df_filtered[df_filtered['Category'] == 'ti']['Filename']:\n",
    "        if (i == j):\n",
    "            filenames_overlap_oti_ti.append(i)\n",
    "\n",
    "# delete from both categories by filtering on files that are not in the list\n",
    "df_filtered = df_filtered[~df_filtered[\"Filename\"].isin(filenames_overlap_oti_ti)] # ~ inverts the mask"
   ]
  },
  {
   "cell_type": "code",
   "execution_count": 9,
   "id": "eeda8a48-0b09-4a8c-8c9d-3ddc7c777980",
   "metadata": {},
   "outputs": [],
   "source": [
    "# checking overlap between ti and niet + ti\n",
    "filenames_overlap_ti_niet = []\n",
    "for i in df_filtered[df_filtered['Category'] == 'ti']['Filename']:\n",
    "    for j in df_filtered[df_filtered['Category'] == 'niet + ti']['Filename']:\n",
    "        if (i == j):\n",
    "            filenames_overlap_ti_niet.append(i)\n",
    "\n",
    "# delete these filenames from 'ti' category\n",
    "df_filtered = df_filtered[~((df_filtered['Category'] == 'ti') & (df_filtered[\"Filename\"].isin(filenames_overlap_ti_niet)))] # ~ inverts the mask"
   ]
  },
  {
   "cell_type": "code",
   "execution_count": 10,
   "id": "a56d8ce9-24a2-4ad6-9c3d-5e1c46396034",
   "metadata": {},
   "outputs": [
    {
     "name": "stdout",
     "output_type": "stream",
     "text": [
      "0\n"
     ]
    }
   ],
   "source": [
    "# check overlap between oti and niet + ti\n",
    "n = 0\n",
    "for i in df_filtered[df_filtered['Category'] == 'oti']['Filename']:\n",
    "    for j in df_filtered[df_filtered['Category'] == 'niet + ti']['Filename']:\n",
    "        if (i == j):\n",
    "            n += 1\n",
    "print(n)"
   ]
  },
  {
   "cell_type": "markdown",
   "id": "362b24e8-73ae-45ce-ad63-3683f3c43f7f",
   "metadata": {},
   "source": [
    "# Adding Sentence Length"
   ]
  },
  {
   "cell_type": "code",
   "execution_count": 13,
   "id": "75f21c14-1d68-4d0b-bb50-409583949fb3",
   "metadata": {},
   "outputs": [],
   "source": [
    "# add Sentence Length column to dataframe with the length of the sentence\n",
    "df_filtered = df_filtered.reset_index()\n",
    "for i in range(df_filtered.shape[0]):\n",
    "    df_filtered.loc[i, 'Sentence_length'] = len(df_filtered['Sentence'][i].split())"
   ]
  },
  {
   "cell_type": "code",
   "execution_count": 14,
   "id": "3f0a5f99-f5d1-4cab-87c2-5ab031c580e5",
   "metadata": {},
   "outputs": [
    {
     "data": {
      "image/png": "[encoded data removed]",
      "text/plain": [
       "<Figure size 640x480 with 1 Axes>"
      ]
     },
     "metadata": {},
     "output_type": "display_data"
    }
   ],
   "source": [
    "plt.hist(df_filtered['Sentence_length'], bins=int(max(df_filtered['Sentence_length'])))\n",
    "# plt.savefig('sentence length.jpg')\n",
    "plt.show()"
   ]
  },
  {
   "cell_type": "code",
   "execution_count": 33,
   "id": "915338d9-8d3f-456a-b5e9-c289dd9bb6a4",
   "metadata": {},
   "outputs": [],
   "source": [
    "# cutoff chosen based on histogram\n",
    "cutoff = 20\n",
    "\n",
    "# adding a short/long label to dataframe\n",
    "df_filtered['Length Label'] = ['short' if x < cutoff else 'long' for x in df_filtered['Sentence_length']]"
   ]
  },
  {
   "cell_type": "markdown",
   "id": "2b9a4488-ad14-46fe-80e8-35589062a087",
   "metadata": {},
   "source": [
    "# Saving Filtered Sentences to CSV"
   ]
  },
  {
   "cell_type": "code",
   "execution_count": 42,
   "id": "d071e7bd-fa96-43a3-b982-dec03b726be9",
   "metadata": {},
   "outputs": [],
   "source": [
    "df_filtered.to_csv(\"D:\\\\preprocessed_sentences_Lassy_Klein.csv\")"
   ]
  }
 ],
 "metadata": {
  "kernelspec": {
   "display_name": "Python 3 (ipykernel)",
   "language": "python",
   "name": "python3"
  },
  "language_info": {
   "codemirror_mode": {
    "name": "ipython",
    "version": 3
   },
   "file_extension": ".py",
   "mimetype": "text/x-python",
   "name": "python",
   "nbconvert_exporter": "python",
   "pygments_lexer": "ipython3",
   "version": "3.12.4"
  }
 },
 "nbformat": 4,
 "nbformat_minor": 5
}
