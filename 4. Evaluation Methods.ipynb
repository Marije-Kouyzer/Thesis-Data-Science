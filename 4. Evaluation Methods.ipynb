{
 "cells": [
  {
   "cell_type": "code",
   "execution_count": 1,
   "id": "74e64ce4-7bc0-4372-b10a-40bd2efcb57b",
   "metadata": {},
   "outputs": [],
   "source": [
    "# imports\n",
    "import pandas as pd\n",
    "import numpy as np\n",
    "from ast import literal_eval\n",
    "from sklearn.metrics import silhouette_score, davies_bouldin_score\n",
    "from sklearn.metrics.pairwise import cosine_similarity\n",
    "from math import dist"
   ]
  },
  {
   "cell_type": "code",
   "execution_count": 2,
   "id": "2f8c81db-18b9-4247-90d4-c5a896ea47cd",
   "metadata": {},
   "outputs": [],
   "source": [
    "# read in sentence embeddings from robbert\n",
    "robbert_1, robbert_2, robbert_3, robbert_4, robbert_5, robbert_6, robbert_7, robbert_8 = pd.read_csv('D:\\\\robbert_embeddings_1.csv'), pd.read_csv('D:\\\\robbert_embeddings_2.csv'), pd.read_csv('D:\\\\robbert_embeddings_3.csv'), pd.read_csv('D:\\\\robbert_embeddings_4.csv'), pd.read_csv('D:\\\\robbert_embeddings_5.csv'), pd.read_csv('D:\\\\robbert_embeddings_6.csv'), pd.read_csv('D:\\\\robbert_embeddings_7.csv'), pd.read_csv('D:\\\\robbert_embeddings_8.csv')\n",
    "embeddings_robbert = pd.concat([robbert_1, robbert_2, robbert_3, robbert_4, robbert_5, robbert_6, robbert_7, robbert_8])\n",
    "embeddings_robbert = embeddings_robbert.reset_index()"
   ]
  },
  {
   "cell_type": "code",
   "execution_count": 3,
   "id": "6368e0be-5697-4e96-98c2-36e5040dee34",
   "metadata": {},
   "outputs": [],
   "source": [
    "# read in sentence embeddings from bertje\n",
    "bertje_1, bertje_2, bertje_3, bertje_4, bertje_5, bertje_6, bertje_7, bertje_8 = pd.read_csv('D:\\\\bertje_embeddings_1.csv'), pd.read_csv('D:\\\\bertje_embeddings_2.csv'), pd.read_csv('D:\\\\bertje_embeddings_3.csv'), pd.read_csv('D:\\\\bertje_embeddings_4.csv'), pd.read_csv('D:\\\\bertje_embeddings_5.csv'), pd.read_csv('D:\\\\bertje_embeddings_6.csv'), pd.read_csv('D:\\\\bertje_embeddings_7.csv'), pd.read_csv('D:\\\\bertje_embeddings_8.csv')\n",
    "embeddings_bertje = pd.concat([bertje_1, bertje_2, bertje_3, bertje_4, bertje_5, bertje_6, bertje_7, bertje_8])\n",
    "embeddings_bertje = embeddings_bertje.reset_index()"
   ]
  },
  {
   "cell_type": "code",
   "execution_count": 4,
   "id": "c1794c3c-4aff-45a1-a06d-e2a10d310aa1",
   "metadata": {},
   "outputs": [],
   "source": [
    "# read in sentence embeddings from eurobert\n",
    "eurobert_1, eurobert_2, eurobert_3, eurobert_4, eurobert_5, eurobert_6, eurobert_7, eurobert_8 = pd.read_csv('D:\\\\eurobert_embeddings_1.csv'), pd.read_csv('D:\\\\eurobert_embeddings_2.csv'), pd.read_csv('D:\\\\eurobert_embeddings_3.csv'), pd.read_csv('D:\\\\eurobert_embeddings_4.csv'), pd.read_csv('D:\\\\eurobert_embeddings_5.csv'), pd.read_csv('D:\\\\eurobert_embeddings_6.csv'), pd.read_csv('D:\\\\eurobert_embeddings_7.csv'), pd.read_csv('D:\\\\eurobert_embeddings_8.csv')\n",
    "embeddings_eurobert = pd.concat([eurobert_1, eurobert_2, eurobert_3, eurobert_4, eurobert_5, eurobert_6, eurobert_7, eurobert_8])\n",
    "embeddings_eurobert = embeddings_eurobert.reset_index()"
   ]
  },
  {
   "cell_type": "code",
   "execution_count": 5,
   "id": "8223bee5-3694-452b-a0cf-6c8a5d31a093",
   "metadata": {},
   "outputs": [],
   "source": [
    "# read in sentence embeddings from mbert\n",
    "mbert_1, mbert_2, mbert_3, mbert_4, mbert_5, mbert_6, mbert_7, mbert_8 = pd.read_csv('D:\\\\mbert_embeddings_1.csv'), pd.read_csv('D:\\\\mbert_embeddings_2.csv'), pd.read_csv('D:\\\\mbert_embeddings_3.csv'), pd.read_csv('D:\\\\mbert_embeddings_4.csv'), pd.read_csv('D:\\\\mbert_embeddings_5.csv'), pd.read_csv('D:\\\\mbert_embeddings_6.csv'), pd.read_csv('D:\\\\mbert_embeddings_7.csv'), pd.read_csv('D:\\\\mbert_embeddings_8.csv')\n",
    "embeddings_mbert = pd.concat([mbert_1, mbert_2, mbert_3, mbert_4, mbert_5, mbert_6, mbert_7, mbert_8])\n",
    "embeddings_mbert = embeddings_mbert.reset_index()"
   ]
  },
  {
   "cell_type": "code",
   "execution_count": 6,
   "id": "cf942582-e1da-40a7-a168-32e72cde23f2",
   "metadata": {},
   "outputs": [],
   "source": [
    "# data preprocessing\n",
    "for df in [embeddings_robbert, embeddings_bertje, embeddings_eurobert, embeddings_mbert]:\n",
    "    df['Sentence Embedding'] = df['Sentence Embedding'].apply(literal_eval)\n",
    "    df['Sentence Embedding'] = df['Sentence Embedding'].apply(np.asarray)"
   ]
  },
  {
   "cell_type": "code",
   "execution_count": 7,
   "id": "7b917a0e-863a-458b-b85b-db1cc4b0063e",
   "metadata": {},
   "outputs": [],
   "source": [
    "# separate short and long sentences\n",
    "embeddings_robbert_short = embeddings_robbert[embeddings_robbert['Length Label'] == 'short']\n",
    "embeddings_robbert_long = embeddings_robbert[embeddings_robbert['Length Label'] == 'long']\n",
    "\n",
    "embeddings_bertje_short = embeddings_bertje[embeddings_bertje['Length Label'] == 'short']\n",
    "embeddings_bertje_long = embeddings_bertje[embeddings_bertje['Length Label'] == 'long']\n",
    "\n",
    "embeddings_eurobert_short = embeddings_eurobert[embeddings_eurobert['Length Label'] == 'short']\n",
    "embeddings_eurobert_long = embeddings_eurobert[embeddings_eurobert['Length Label'] == 'long']\n",
    "\n",
    "embeddings_mbert_short = embeddings_mbert[embeddings_mbert['Length Label'] == 'short']\n",
    "embeddings_mbert_long = embeddings_mbert[embeddings_mbert['Length Label'] == 'long']"
   ]
  },
  {
   "cell_type": "markdown",
   "id": "bc12ca04-d451-4741-9e9d-d9823294cd2e",
   "metadata": {},
   "source": [
    "# Silhouette Score"
   ]
  },
  {
   "cell_type": "code",
   "execution_count": 9,
   "id": "167186a5-2e01-42b4-887a-2ceea05adc58",
   "metadata": {},
   "outputs": [],
   "source": [
    "def silhouette_score_function(df):\n",
    "    oti_and_ti = df[(df['Category'] == 'oti') | (df['Category'] == 'ti')]\n",
    "    labels_oti_and_ti = oti_and_ti['Category'].to_numpy()\n",
    "    oti_and_ti = np.stack(oti_and_ti['Sentence Embedding'].to_numpy())\n",
    "    ti_and_niet = df[(df['Category'] == 'ti') | (df['Category'] == 'niet + ti')]\n",
    "    labels_ti_and_niet = ti_and_niet['Category'].to_numpy()\n",
    "    ti_and_niet = np.stack(ti_and_niet['Sentence Embedding'].to_numpy())\n",
    "\n",
    "    ss_oti_ti = silhouette_score(oti_and_ti, labels_oti_and_ti)\n",
    "    ss_ti_niet = silhouette_score(ti_and_niet, labels_ti_and_niet)\n",
    "\n",
    "    return ss_oti_ti, ss_ti_niet"
   ]
  },
  {
   "cell_type": "code",
   "execution_count": 10,
   "id": "5fae62ae-b477-4bae-b343-6b76f80762c7",
   "metadata": {},
   "outputs": [],
   "source": [
    "# Silhouette Score for robbert\n",
    "ss_robbert_oti_ti, ss_robbert_ti_niet = silhouette_score_function(embeddings_robbert)"
   ]
  },
  {
   "cell_type": "code",
   "execution_count": 11,
   "id": "31073f3f-2c58-4bd3-bb30-cf9b3631eb98",
   "metadata": {},
   "outputs": [],
   "source": [
    "# Silhouette Score for bertje\n",
    "ss_bertje_oti_ti, ss_bertje_ti_niet = silhouette_score_function(embeddings_bertje)"
   ]
  },
  {
   "cell_type": "code",
   "execution_count": 12,
   "id": "5feeb807-8cd0-4811-8297-20a5fb6025e8",
   "metadata": {},
   "outputs": [],
   "source": [
    "# Silhouette Score for eurobert\n",
    "ss_eurobert_oti_ti, ss_eurobert_ti_niet = silhouette_score_function(embeddings_eurobert)"
   ]
  },
  {
   "cell_type": "code",
   "execution_count": 13,
   "id": "0e6e4628-2fdc-4746-bdee-69ad8db07290",
   "metadata": {},
   "outputs": [],
   "source": [
    "# Silhouette Score for mbert\n",
    "ss_mbert_oti_ti, ss_mbert_ti_niet = silhouette_score_function(embeddings_mbert)"
   ]
  },
  {
   "cell_type": "markdown",
   "id": "d039ee2a-20af-471a-8d22-aee497d54087",
   "metadata": {},
   "source": [
    "### Silhouette Score separated for sentence length"
   ]
  },
  {
   "cell_type": "code",
   "execution_count": 15,
   "id": "c6cf391c-be99-4d45-99d1-71d8cda28f34",
   "metadata": {},
   "outputs": [],
   "source": [
    "# Silhouette Score robbert for short sentences\n",
    "ss_robbert_oti_ti_short, ss_robbert_ti_niet_short = silhouette_score_function(embeddings_robbert_short)"
   ]
  },
  {
   "cell_type": "code",
   "execution_count": 16,
   "id": "22abc096-d598-42b5-a696-2a5f0df0549b",
   "metadata": {},
   "outputs": [],
   "source": [
    "# Silhouette Score robbert for long sentences\n",
    "ss_robbert_oti_ti_long, ss_robbert_ti_niet_long = silhouette_score_function(embeddings_robbert_long)"
   ]
  },
  {
   "cell_type": "code",
   "execution_count": 17,
   "id": "b44d9654-ad38-4354-9af2-b5bf83688ad7",
   "metadata": {},
   "outputs": [],
   "source": [
    "# Silhouette Score bertje for short sentences\n",
    "ss_bertje_oti_ti_short, ss_bertje_ti_niet_short = silhouette_score_function(embeddings_bertje_short)"
   ]
  },
  {
   "cell_type": "code",
   "execution_count": 18,
   "id": "7e90f62a-1574-419d-b980-2f2886ff7991",
   "metadata": {},
   "outputs": [],
   "source": [
    "# Silhouette Score bertje for long sentences\n",
    "ss_bertje_oti_ti_long, ss_bertje_ti_niet_long = silhouette_score_function(embeddings_bertje_long)"
   ]
  },
  {
   "cell_type": "code",
   "execution_count": 19,
   "id": "d99462ea-b8bb-42c3-ab06-f3e81eb4b26e",
   "metadata": {},
   "outputs": [],
   "source": [
    "# Silhouette Score eurobert for short sentences\n",
    "ss_eurobert_oti_ti_short, ss_eurobert_ti_niet_short = silhouette_score_function(embeddings_eurobert_short)"
   ]
  },
  {
   "cell_type": "code",
   "execution_count": 20,
   "id": "d13c3650-d5d8-4a71-b85d-72dbc47d7484",
   "metadata": {},
   "outputs": [],
   "source": [
    "# Silhouette Score eurobert for long sentences\n",
    "ss_eurobert_oti_ti_long, ss_eurobert_ti_niet_long = silhouette_score_function(embeddings_eurobert_long)"
   ]
  },
  {
   "cell_type": "code",
   "execution_count": 21,
   "id": "f98c8599-36f4-4283-9d36-75273031e349",
   "metadata": {},
   "outputs": [],
   "source": [
    "# Silhouette Score mbert for short sentences\n",
    "ss_mbert_oti_ti_short, ss_mbert_ti_niet_short = silhouette_score_function(embeddings_mbert_short)"
   ]
  },
  {
   "cell_type": "code",
   "execution_count": 22,
   "id": "2af69ad8-9558-417a-ae25-9594e6e453e4",
   "metadata": {},
   "outputs": [],
   "source": [
    "# Silhouette Score mbert for long sentences\n",
    "ss_mbert_oti_ti_long, ss_mbert_ti_niet_long = silhouette_score_function(embeddings_mbert_long)"
   ]
  },
  {
   "cell_type": "markdown",
   "id": "22ccc084-8950-47a8-895a-755df9e6d9c8",
   "metadata": {},
   "source": [
    "# Davies-Bouldin"
   ]
  },
  {
   "cell_type": "code",
   "execution_count": 24,
   "id": "7afb67b7-3c93-4b88-a320-78e573fe7183",
   "metadata": {},
   "outputs": [],
   "source": [
    "def davies_bouldin_function(df):\n",
    "    oti_and_ti = df[(df['Category'] == 'oti') | (df['Category'] == 'ti')]\n",
    "    labels_oti_and_ti = oti_and_ti['Category'].to_numpy()\n",
    "    oti_and_ti = np.stack(oti_and_ti['Sentence Embedding'].to_numpy())\n",
    "    ti_and_niet = df[(df['Category'] == 'ti') | (df['Category'] == 'niet + ti')]\n",
    "    labels_ti_and_niet = ti_and_niet['Category'].to_numpy()\n",
    "    ti_and_niet = np.stack(ti_and_niet['Sentence Embedding'].to_numpy())\n",
    "\n",
    "    db_oti_ti = davies_bouldin_score(oti_and_ti, labels_oti_and_ti)\n",
    "    db_ti_niet = davies_bouldin_score(ti_and_niet, labels_ti_and_niet)\n",
    "\n",
    "    return db_oti_ti, db_ti_niet"
   ]
  },
  {
   "cell_type": "code",
   "execution_count": 25,
   "id": "3159646b-ee80-41d1-8442-912a21947c21",
   "metadata": {},
   "outputs": [],
   "source": [
    "# Davies-Bouldin for robbert\n",
    "db_robbert_oti_ti, db_robbert_ti_niet = davies_bouldin_function(embeddings_robbert)"
   ]
  },
  {
   "cell_type": "code",
   "execution_count": 26,
   "id": "26150d20-b70b-4ca0-b75b-28e61c41bc68",
   "metadata": {},
   "outputs": [],
   "source": [
    "# Davies-Bouldin for bertje\n",
    "db_bertje_oti_ti, db_bertje_ti_niet = davies_bouldin_function(embeddings_bertje)"
   ]
  },
  {
   "cell_type": "code",
   "execution_count": 27,
   "id": "2d6fb6da-a875-4874-a426-f76f7b8870fa",
   "metadata": {},
   "outputs": [],
   "source": [
    "# Davies-Bouldin for eurobert\n",
    "db_eurobert_oti_ti, db_eurobert_ti_niet = davies_bouldin_function(embeddings_eurobert)"
   ]
  },
  {
   "cell_type": "code",
   "execution_count": 28,
   "id": "fde7885b-2b5a-4572-a5ed-2a16e0905cad",
   "metadata": {},
   "outputs": [],
   "source": [
    "# Davies-Bouldin for mbert\n",
    "db_mbert_oti_ti, db_mbert_ti_niet = davies_bouldin_function(embeddings_mbert)"
   ]
  },
  {
   "cell_type": "markdown",
   "id": "3ba79f08-8f32-4b20-9bd2-3319b102a16d",
   "metadata": {},
   "source": [
    "### Davies-Bouldin separated for sentence length"
   ]
  },
  {
   "cell_type": "code",
   "execution_count": 30,
   "id": "42611725-3e51-4c9d-9d77-3b029dd6e175",
   "metadata": {},
   "outputs": [],
   "source": [
    "# Davies-Bouldin robbert for short sentences\n",
    "db_robbert_oti_ti_short, db_robbert_ti_niet_short = davies_bouldin_function(embeddings_robbert_short)"
   ]
  },
  {
   "cell_type": "code",
   "execution_count": 31,
   "id": "24a7ede4-e352-420a-b23f-9271661693d6",
   "metadata": {},
   "outputs": [],
   "source": [
    "# Davies-Bouldin robbert for long sentences\n",
    "db_robbert_oti_ti_long, db_robbert_ti_niet_long = davies_bouldin_function(embeddings_robbert_long)"
   ]
  },
  {
   "cell_type": "code",
   "execution_count": 32,
   "id": "ce7622c2-94a5-435b-9d75-2580dea65e4a",
   "metadata": {},
   "outputs": [],
   "source": [
    "# Davies-Bouldin bertje for short sentences\n",
    "db_bertje_oti_ti_short, db_bertje_ti_niet_short = davies_bouldin_function(embeddings_bertje_short)"
   ]
  },
  {
   "cell_type": "code",
   "execution_count": 33,
   "id": "86e15944-f9b3-418e-8b9e-a0017c5ac350",
   "metadata": {},
   "outputs": [],
   "source": [
    "# Davies-Bouldin bertje for long sentences\n",
    "db_bertje_oti_ti_long, db_bertje_ti_niet_long = davies_bouldin_function(embeddings_bertje_long)"
   ]
  },
  {
   "cell_type": "code",
   "execution_count": 34,
   "id": "fd0777f6-d301-495e-a254-bad0e4ec641a",
   "metadata": {},
   "outputs": [],
   "source": [
    "# Davies-Bouldin eurobert for short sentences\n",
    "db_eurobert_oti_ti_short, db_eurobert_ti_niet_short = davies_bouldin_function(embeddings_eurobert_short)"
   ]
  },
  {
   "cell_type": "code",
   "execution_count": 35,
   "id": "68669d91-2da7-4b92-a20c-c4e8470d971a",
   "metadata": {},
   "outputs": [],
   "source": [
    "# Davies-Bouldin eurobert for long sentences\n",
    "db_eurobert_oti_ti_long, db_eurobert_ti_niet_long = davies_bouldin_function(embeddings_eurobert_long)"
   ]
  },
  {
   "cell_type": "code",
   "execution_count": 36,
   "id": "bb046959-cce0-44ad-a32f-8fb4e5b9d21a",
   "metadata": {},
   "outputs": [],
   "source": [
    "# Davies-Bouldin mbert for short sentences\n",
    "db_mbert_oti_ti_short, db_mbert_ti_niet_short = davies_bouldin_function(embeddings_mbert_short)"
   ]
  },
  {
   "cell_type": "code",
   "execution_count": 37,
   "id": "68ca0515-8d1b-4bd8-9d60-1a5f0f65d8df",
   "metadata": {},
   "outputs": [],
   "source": [
    "# Davies-Bouldin mbert for long sentences\n",
    "db_mbert_oti_ti_long, db_mbert_ti_niet_long = davies_bouldin_function(embeddings_mbert_long)"
   ]
  },
  {
   "cell_type": "markdown",
   "id": "45d802f9-bf04-4063-8017-5ee112b94ed5",
   "metadata": {},
   "source": [
    "# Results"
   ]
  },
  {
   "cell_type": "code",
   "execution_count": 39,
   "id": "0893b15a-aea1-4fa0-82f5-2e2fdb26feb7",
   "metadata": {},
   "outputs": [
    {
     "name": "stdout",
     "output_type": "stream",
     "text": [
      "Results\n",
      "Silhouette Score\n",
      "RobBERT oti and ti:         0.0157265887932287\n",
      "RobBERT ti and niet + ti:   0.031882406504231534\n",
      "Difference:                 -0.016155817711002832\n",
      "BERTje oti and ti:          0.013608322851695921\n",
      "BERTje ti and niet + ti:    0.030755928530612233\n",
      "Difference:                 -0.017147605678916312\n",
      "EuroBERT oti and ti:        0.011898994182254582\n",
      "EuroBERT ti and niet + ti:  0.025850122165494392\n",
      "Difference:                 -0.01395112798323981\n",
      "mBERT oti and ti:           0.011650065902473526\n",
      "mBERT ti and niet + ti:     0.02821737642342569\n",
      "Difference:                 -0.016567310520952165\n",
      "\n",
      "Davies-Bouldin Index\n",
      "RobBERT oti and ti:         7.875617687245911\n",
      "RobBERT ti and niet + ti:   5.467978177515712\n",
      "Difference:                 2.407639509730199\n",
      "BERTje oti and ti:          8.427271304654342\n",
      "BERTje ti and niet + ti:    5.517885626939613\n",
      "Difference:                 2.909385677714729\n",
      "EuroBERT oti and ti:        8.856396914723716\n",
      "EuroBERT ti and niet + ti:  6.0677586390104405\n",
      "Difference:                 2.788638275713275\n",
      "mBERT oti and ti:           9.074266025150688\n",
      "mBERT ti and niet + ti:     5.7963332877726295\n",
      "Difference:                 3.277932737378059\n",
      "\n",
      "Results sentence length\n",
      "Silhouette Score for short sentences\n",
      "RobBERT oti and ti:         0.00974762349771568\n",
      "RobBERT ti and niet + ti:   0.029412181599929737\n",
      "Difference:                 -0.019664558102214055\n",
      "BERTje oti and ti:          0.010831023972843754\n",
      "BERTje ti and niet + ti:    0.030579950826666237\n",
      "Difference:                 -0.019748926853822485\n",
      "EuroBERT oti and ti:        0.009436661505721908\n",
      "EuroBERT ti and niet + ti:  0.02229512709370785\n",
      "Difference:                 -0.01285846558798594\n",
      "mBERT oti and ti:           0.007777654351142382\n",
      "mBERT ti and niet + ti:     0.024774904177448404\n",
      "Difference:                 -0.016997249826306023\n",
      "\n",
      "Silhouette Score for long sentences\n",
      "RobBERT oti and ti:         0.01837461526588474\n",
      "RobBERT ti and niet + ti:   0.046553848096613636\n",
      "Difference:                 -0.028179232830728894\n",
      "BERTje oti and ti:          0.014464216092163189\n",
      "BERTje ti and niet + ti:    0.04050214368138748\n",
      "Difference:                 -0.02603792758922429\n",
      "EuroBERT oti and ti:        0.014766784017245137\n",
      "EuroBERT ti and niet + ti:  0.043764541051310904\n",
      "Difference:                 -0.028997757034065767\n",
      "mBERT oti and ti:           0.014260372230499764\n",
      "mBERT ti and niet + ti:     0.04326163219534608\n",
      "Difference:                 -0.029001259964846315\n",
      "\n",
      "Davies-Bouldin Index for short sentences\n",
      "RobBERT oti and ti:         8.009513540420949\n",
      "RobBERT ti and niet + ti:   5.914173718948886\n",
      "Difference:                 2.095339821472063\n",
      "BERTje oti and ti:          8.075802674882112\n",
      "BERTje ti and niet + ti:    5.650669990073524\n",
      "Difference:                 2.425132684808588\n",
      "EuroBERT oti and ti:        9.171505689246628\n",
      "EuroBERT ti and niet + ti:  6.796622390463733\n",
      "Difference:                 2.374883298782895\n",
      "mBERT oti and ti:           9.872031296043685\n",
      "mBERT ti and niet + ti:     6.262930316803757\n",
      "Difference:                 3.609100979239928\n",
      "\n",
      "Davies-Bouldin Index for long sentences\n",
      "RobBERT oti and ti:         7.2848283392610895\n",
      "RobBERT ti and niet + ti:   4.354759758860617\n",
      "Difference:                 2.930068580400473\n",
      "BERTje oti and ti:          8.19862587113681\n",
      "BERTje ti and niet + ti:    4.711491225830243\n",
      "Difference:                 3.4871346453065675\n",
      "EuroBERT oti and ti:        7.541381784837975\n",
      "EuroBERT ti and niet + ti:  4.444046308830481\n",
      "Difference:                 3.097335476007494\n",
      "mBERT oti and ti:           7.781215798041074\n",
      "mBERT ti and niet + ti:     4.602987213021715\n",
      "Difference:                 3.178228585019359\n"
     ]
    }
   ],
   "source": [
    "# print all results\n",
    "print('Results')\n",
    "print('Silhouette Score')\n",
    "print('RobBERT oti and ti:        ', ss_robbert_oti_ti)\n",
    "print('RobBERT ti and niet + ti:  ', ss_robbert_ti_niet)\n",
    "print('Difference:                ', ss_robbert_oti_ti - ss_robbert_ti_niet)\n",
    "print('BERTje oti and ti:         ', ss_bertje_oti_ti)\n",
    "print('BERTje ti and niet + ti:   ', ss_bertje_ti_niet)\n",
    "print('Difference:                ', ss_bertje_oti_ti - ss_bertje_ti_niet)\n",
    "print('EuroBERT oti and ti:       ', ss_eurobert_oti_ti)\n",
    "print('EuroBERT ti and niet + ti: ', ss_eurobert_ti_niet)\n",
    "print('Difference:                ', ss_eurobert_oti_ti - ss_eurobert_ti_niet)\n",
    "print('mBERT oti and ti:          ', ss_mbert_oti_ti)\n",
    "print('mBERT ti and niet + ti:    ', ss_mbert_ti_niet)\n",
    "print('Difference:                ', ss_mbert_oti_ti - ss_mbert_ti_niet)\n",
    "print()\n",
    "print('Davies-Bouldin Index')\n",
    "print('RobBERT oti and ti:        ', db_robbert_oti_ti)\n",
    "print('RobBERT ti and niet + ti:  ', db_robbert_ti_niet)\n",
    "print('Difference:                ', db_robbert_oti_ti - db_robbert_ti_niet)\n",
    "print('BERTje oti and ti:         ', db_bertje_oti_ti)\n",
    "print('BERTje ti and niet + ti:   ', db_bertje_ti_niet)\n",
    "print('Difference:                ', db_bertje_oti_ti - db_bertje_ti_niet)\n",
    "print('EuroBERT oti and ti:       ', db_eurobert_oti_ti)\n",
    "print('EuroBERT ti and niet + ti: ', db_eurobert_ti_niet)\n",
    "print('Difference:                ', db_eurobert_oti_ti - db_eurobert_ti_niet)\n",
    "print('mBERT oti and ti:          ', db_mbert_oti_ti)\n",
    "print('mBERT ti and niet + ti:    ', db_mbert_ti_niet)\n",
    "print('Difference:                ', db_mbert_oti_ti - db_mbert_ti_niet)\n",
    "print()\n",
    "print('Results sentence length')\n",
    "print('Silhouette Score for short sentences')\n",
    "print('RobBERT oti and ti:        ', ss_robbert_oti_ti_short)\n",
    "print('RobBERT ti and niet + ti:  ', ss_robbert_ti_niet_short)\n",
    "print('Difference:                ', ss_robbert_oti_ti_short - ss_robbert_ti_niet_short)\n",
    "print('BERTje oti and ti:         ', ss_bertje_oti_ti_short)\n",
    "print('BERTje ti and niet + ti:   ', ss_bertje_ti_niet_short)\n",
    "print('Difference:                ', ss_bertje_oti_ti_short - ss_bertje_ti_niet_short)\n",
    "print('EuroBERT oti and ti:       ', ss_eurobert_oti_ti_short)\n",
    "print('EuroBERT ti and niet + ti: ', ss_eurobert_ti_niet_short)\n",
    "print('Difference:                ', ss_eurobert_oti_ti_short - ss_eurobert_ti_niet_short)\n",
    "print('mBERT oti and ti:          ', ss_mbert_oti_ti_short)\n",
    "print('mBERT ti and niet + ti:    ', ss_mbert_ti_niet_short)\n",
    "print('Difference:                ', ss_mbert_oti_ti_short - ss_mbert_ti_niet_short)\n",
    "print()\n",
    "print('Silhouette Score for long sentences')\n",
    "print('RobBERT oti and ti:        ', ss_robbert_oti_ti_long)\n",
    "print('RobBERT ti and niet + ti:  ', ss_robbert_ti_niet_long)\n",
    "print('Difference:                ', ss_robbert_oti_ti_long - ss_robbert_ti_niet_long)\n",
    "print('BERTje oti and ti:         ', ss_bertje_oti_ti_long)\n",
    "print('BERTje ti and niet + ti:   ', ss_bertje_ti_niet_long)\n",
    "print('Difference:                ', ss_bertje_oti_ti_long - ss_bertje_ti_niet_long)\n",
    "print('EuroBERT oti and ti:       ', ss_eurobert_oti_ti_long)\n",
    "print('EuroBERT ti and niet + ti: ', ss_eurobert_ti_niet_long)\n",
    "print('Difference:                ', ss_eurobert_oti_ti_long - ss_eurobert_ti_niet_long)\n",
    "print('mBERT oti and ti:          ', ss_mbert_oti_ti_long)\n",
    "print('mBERT ti and niet + ti:    ', ss_mbert_ti_niet_long)\n",
    "print('Difference:                ', ss_mbert_oti_ti_long - ss_mbert_ti_niet_long)\n",
    "print()\n",
    "print('Davies-Bouldin Index for short sentences')\n",
    "print('RobBERT oti and ti:        ', db_robbert_oti_ti_short)\n",
    "print('RobBERT ti and niet + ti:  ', db_robbert_ti_niet_short)\n",
    "print('Difference:                ', db_robbert_oti_ti_short - db_robbert_ti_niet_short)\n",
    "print('BERTje oti and ti:         ', db_bertje_oti_ti_short)\n",
    "print('BERTje ti and niet + ti:   ', db_bertje_ti_niet_short)\n",
    "print('Difference:                ', db_bertje_oti_ti_short - db_bertje_ti_niet_short)\n",
    "print('EuroBERT oti and ti:       ', db_eurobert_oti_ti_short)\n",
    "print('EuroBERT ti and niet + ti: ', db_eurobert_ti_niet_short)\n",
    "print('Difference:                ', db_eurobert_oti_ti_short - db_eurobert_ti_niet_short)\n",
    "print('mBERT oti and ti:          ', db_mbert_oti_ti_short)\n",
    "print('mBERT ti and niet + ti:    ', db_mbert_ti_niet_short)\n",
    "print('Difference:                ', db_mbert_oti_ti_short - db_mbert_ti_niet_short)\n",
    "print()\n",
    "print('Davies-Bouldin Index for long sentences')\n",
    "print('RobBERT oti and ti:        ', db_robbert_oti_ti_long)\n",
    "print('RobBERT ti and niet + ti:  ', db_robbert_ti_niet_long)\n",
    "print('Difference:                ', db_robbert_oti_ti_long - db_robbert_ti_niet_long)\n",
    "print('BERTje oti and ti:         ', db_bertje_oti_ti_long)\n",
    "print('BERTje ti and niet + ti:   ', db_bertje_ti_niet_long)\n",
    "print('Difference:                ', db_bertje_oti_ti_long - db_bertje_ti_niet_long)\n",
    "print('EuroBERT oti and ti:       ', db_eurobert_oti_ti_long)\n",
    "print('EuroBERT ti and niet + ti: ', db_eurobert_ti_niet_long)\n",
    "print('Difference:                ', db_eurobert_oti_ti_long - db_eurobert_ti_niet_long)\n",
    "print('mBERT oti and ti:          ', db_mbert_oti_ti_long)\n",
    "print('mBERT ti and niet + ti:    ', db_mbert_ti_niet_long)\n",
    "print('Difference:                ', db_mbert_oti_ti_long - db_mbert_ti_niet_long)"
   ]
  },
  {
   "cell_type": "markdown",
   "id": "832cab94-c698-40dd-a76b-6a2ba3bc52fe",
   "metadata": {},
   "source": [
    "# Closest sentences to average"
   ]
  },
  {
   "cell_type": "code",
   "execution_count": 41,
   "id": "3098eeab-0a5d-4c35-8d11-5cbb1d7ba5f2",
   "metadata": {},
   "outputs": [],
   "source": [
    "sentences = pd.read_csv('D:\\\\preprocessed_sentences.csv')['Sentence']"
   ]
  },
  {
   "cell_type": "code",
   "execution_count": 42,
   "id": "31c1ac3c-392f-478a-ad98-28f8d3e99794",
   "metadata": {},
   "outputs": [],
   "source": [
    "def calculate_percentage_oti(embeddings, sentences):\n",
    "    average_oti = np.average(embeddings[embeddings['Category'] == 'oti']['Sentence Embedding'])\n",
    "    oti = []\n",
    "    index = 0\n",
    "    for i in embeddings[embeddings['Category'] == 'oti']['Sentence Embedding']:\n",
    "        euclidian_distance = dist(i, average_oti)\n",
    "        oti.append((i, euclidian_distance, index, sentences[index], 'oti'))\n",
    "        index += 1\n",
    "    ti = []\n",
    "    index = 2645\n",
    "    for i in embeddings[embeddings['Category'] == 'ti']['Sentence Embedding']:\n",
    "        euclidian_distance = dist(i, average_oti)\n",
    "        ti.append((i, euclidian_distance, index, sentences[index], 'ti'))\n",
    "        index += 1\n",
    "    ti_oti = oti + ti\n",
    "    ti_oti.sort(key = lambda x: x[1])\n",
    "    top_10 = ti_oti[:10]\n",
    "    top_100 = ti_oti[:100]\n",
    "    return sum(1 for i in top_10 if i[4] == 'oti')/len(top_10), sum(1 for i in top_100 if i[4] == 'oti')/len(top_100)"
   ]
  },
  {
   "cell_type": "code",
   "execution_count": 43,
   "id": "77a32268-3354-4da4-abe5-5e203e8c4451",
   "metadata": {},
   "outputs": [
    {
     "data": {
      "text/plain": [
       "(0.9, 0.72)"
      ]
     },
     "execution_count": 43,
     "metadata": {},
     "output_type": "execute_result"
    }
   ],
   "source": [
    "calculate_percentage_oti(embeddings_robbert, sentences)"
   ]
  },
  {
   "cell_type": "code",
   "execution_count": 44,
   "id": "0d6852a5-f4bd-4cb6-b470-ce3052fac6cb",
   "metadata": {},
   "outputs": [
    {
     "data": {
      "text/plain": [
       "(0.8, 0.66)"
      ]
     },
     "execution_count": 44,
     "metadata": {},
     "output_type": "execute_result"
    }
   ],
   "source": [
    "calculate_percentage_oti(embeddings_bertje, sentences)"
   ]
  },
  {
   "cell_type": "code",
   "execution_count": 45,
   "id": "2eb47c41-df77-4e3e-a86e-1152ad4373ab",
   "metadata": {},
   "outputs": [
    {
     "data": {
      "text/plain": [
       "(0.9, 0.67)"
      ]
     },
     "execution_count": 45,
     "metadata": {},
     "output_type": "execute_result"
    }
   ],
   "source": [
    "calculate_percentage_oti(embeddings_eurobert, sentences)"
   ]
  },
  {
   "cell_type": "code",
   "execution_count": 46,
   "id": "b84bbf86-a286-4c00-8c18-ca7a74bb79ef",
   "metadata": {},
   "outputs": [
    {
     "data": {
      "text/plain": [
       "(0.3, 0.61)"
      ]
     },
     "execution_count": 46,
     "metadata": {},
     "output_type": "execute_result"
    }
   ],
   "source": [
    "calculate_percentage_oti(embeddings_mbert, sentences)"
   ]
  }
 ],
 "metadata": {
  "kernelspec": {
   "display_name": "Python 3 (ipykernel)",
   "language": "python",
   "name": "python3"
  },
  "language_info": {
   "codemirror_mode": {
    "name": "ipython",
    "version": 3
   },
   "file_extension": ".py",
   "mimetype": "text/x-python",
   "name": "python",
   "nbconvert_exporter": "python",
   "pygments_lexer": "ipython3",
   "version": "3.12.4"
  }
 },
 "nbformat": 4,
 "nbformat_minor": 5
}
