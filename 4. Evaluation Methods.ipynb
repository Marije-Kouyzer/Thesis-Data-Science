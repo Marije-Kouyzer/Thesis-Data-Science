{
 "cells": [
  {
   "cell_type": "code",
   "execution_count": 1,
   "id": "74e64ce4-7bc0-4372-b10a-40bd2efcb57b",
   "metadata": {},
   "outputs": [],
   "source": [
    "# imports\n",
    "import pandas as pd\n",
    "import numpy as np\n",
    "from ast import literal_eval\n",
    "from sklearn.metrics import silhouette_score, davies_bouldin_score\n",
    "from jqm_cvi_master.jqmcvi.base import dunn"
   ]
  },
  {
   "cell_type": "code",
   "execution_count": 3,
   "id": "92423a00-8cfd-4e8c-a292-37c4b303f030",
   "metadata": {},
   "outputs": [],
   "source": [
    "# read in sentence embeddings from each model\n",
    "embeddings_robbert = pd.read_csv('D:\\\\sentence_embeddings_robbert_lassy_klein.csv')\n",
    "embeddings_bertje = pd.read_csv('D:\\\\sentence_embeddings_bertje_lassy_klein.csv')\n",
    "embeddings_eurobert = pd.read_csv('D:\\\\sentence_embeddings_eurobert_lassy_klein.csv')\n",
    "embeddings_mbert = pd.read_csv('D:\\\\sentence_embeddings_mbert_lassy_klein.csv')"
   ]
  },
  {
   "cell_type": "code",
   "execution_count": 5,
   "id": "cf942582-e1da-40a7-a168-32e72cde23f2",
   "metadata": {},
   "outputs": [],
   "source": [
    "# data preprocessing\n",
    "for df in [embeddings_robbert, embeddings_bertje, embeddings_eurobert, embeddings_mbert]:\n",
    "    df['Sentence Embedding'] = df['Sentence Embedding'].apply(literal_eval)\n",
    "    df['Sentence Embedding'] = df['Sentence Embedding'].apply(np.asarray)"
   ]
  },
  {
   "cell_type": "code",
   "execution_count": 85,
   "id": "7b917a0e-863a-458b-b85b-db1cc4b0063e",
   "metadata": {},
   "outputs": [],
   "source": [
    "# separate short and long sentences\n",
    "embeddings_robbert_short = embeddings_robbert[embeddings_robbert['Length Label'] == 'short']\n",
    "embeddings_robbert_long = embeddings_robbert[embeddings_robbert['Length Label'] == 'long']\n",
    "\n",
    "embeddings_bertje_short = embeddings_bertje[embeddings_bertje['Length Label'] == 'short']\n",
    "embeddings_bertje_long = embeddings_bertje[embeddings_bertje['Length Label'] == 'long']\n",
    "\n",
    "embeddings_eurobert_short = embeddings_eurobert[embeddings_eurobert['Length Label'] == 'short']\n",
    "embeddings_eurobert_long = embeddings_eurobert[embeddings_eurobert['Length Label'] == 'long']\n",
    "\n",
    "embeddings_mbert_short = embeddings_mbert[embeddings_mbert['Length Label'] == 'short']\n",
    "embeddings_mbert_long = embeddings_mbert[embeddings_mbert['Length Label'] == 'long']"
   ]
  },
  {
   "cell_type": "markdown",
   "id": "1aee9662-8c44-4f9d-ba0c-1d2e6c26b999",
   "metadata": {},
   "source": [
    "# Dunn Index"
   ]
  },
  {
   "cell_type": "code",
   "execution_count": 47,
   "id": "a35bbe4e-cfd7-4cd3-80eb-2a553ce28233",
   "metadata": {},
   "outputs": [],
   "source": [
    "def dunn_index_function(df):\n",
    "    oti = df[df['Category'] == 'oti']\n",
    "    oti = np.stack(oti['Sentence Embedding'].to_numpy())\n",
    "    ti = df[df['Category'] == 'ti']\n",
    "    ti = np.stack(ti['Sentence Embedding'].to_numpy())\n",
    "    niet = df[df['Category'] == 'niet + ti']\n",
    "    niet = np.stack(niet['Sentence Embedding'].to_numpy())\n",
    "\n",
    "    dunn_oti_ti = dunn([oti, ti])\n",
    "    dunn_ti_niet = dunn([ti, niet])\n",
    "    return dunn_oti_ti, dunn_ti_niet"
   ]
  },
  {
   "cell_type": "code",
   "execution_count": 49,
   "id": "1827fa41-a7eb-4436-adc3-e6a52bc027f4",
   "metadata": {},
   "outputs": [],
   "source": [
    "# Dunn Index robbert\n",
    "dunn_robbert_oti_ti, dunn_robbert_ti_niet = dunn_index_function(embeddings_robbert)"
   ]
  },
  {
   "cell_type": "code",
   "execution_count": 51,
   "id": "e61d372b-a7f8-4ba7-813b-0a744c2aeb49",
   "metadata": {},
   "outputs": [],
   "source": [
    "# Dunn Index bertje\n",
    "dunn_bertje_oti_ti, dunn_bertje_ti_niet = dunn_index_function(embeddings_bertje)"
   ]
  },
  {
   "cell_type": "code",
   "execution_count": 52,
   "id": "e9930195-272a-478a-b58b-bfd4a513f961",
   "metadata": {},
   "outputs": [],
   "source": [
    "# Dunn Index eurobert\n",
    "dunn_eurobert_oti_ti, dunn_eurobert_ti_niet = dunn_index_function(embeddings_eurobert)"
   ]
  },
  {
   "cell_type": "code",
   "execution_count": 54,
   "id": "f8a5e5cf-59d3-40dd-8004-601b3a12c112",
   "metadata": {},
   "outputs": [],
   "source": [
    "# Dunn Index mbert\n",
    "dunn_mbert_oti_ti, dunn_mbert_ti_niet = dunn_index_function(embeddings_mbert)"
   ]
  },
  {
   "cell_type": "markdown",
   "id": "84e2e24b-194c-476d-be0e-bb88d0979f65",
   "metadata": {},
   "source": [
    "### Dunn Index separated for sentence length"
   ]
  },
  {
   "cell_type": "code",
   "execution_count": 87,
   "id": "07c1bcad-b0c7-41b9-a80e-dd8842425523",
   "metadata": {},
   "outputs": [],
   "source": [
    "# Dunn Index robbert for short sentences\n",
    "dunn_robbert_oti_ti_short, dunn_robbert_ti_niet_short = dunn_index_function(embeddings_robbert_short)"
   ]
  },
  {
   "cell_type": "code",
   "execution_count": 89,
   "id": "2dd7c874-0407-4097-9b3c-307a8c2bfa31",
   "metadata": {},
   "outputs": [],
   "source": [
    "# Dunn Index robbert for long sentences\n",
    "dunn_robbert_oti_ti_long, dunn_robbert_ti_niet_long = dunn_index_function(embeddings_robbert_long)"
   ]
  },
  {
   "cell_type": "code",
   "execution_count": 91,
   "id": "f3532ebf-bd9c-42c7-89b2-64ea67776948",
   "metadata": {},
   "outputs": [],
   "source": [
    "# Dunn Index bertje for short sentences\n",
    "dunn_bertje_oti_ti_short, dunn_bertje_ti_niet_short = dunn_index_function(embeddings_bertje_short)"
   ]
  },
  {
   "cell_type": "code",
   "execution_count": 93,
   "id": "b76df3fb-241c-464b-a855-a96304fb3da2",
   "metadata": {},
   "outputs": [],
   "source": [
    "# Dunn Index bertje for long sentences\n",
    "dunn_bertje_oti_ti_long, dunn_bertje_ti_niet_long = dunn_index_function(embeddings_bertje_long)"
   ]
  },
  {
   "cell_type": "code",
   "execution_count": 95,
   "id": "856cdc15-6041-4a70-9041-441669914120",
   "metadata": {},
   "outputs": [],
   "source": [
    "# Dunn Index eurobert for short sentences\n",
    "dunn_eurobert_oti_ti_short, dunn_eurobert_ti_niet_short = dunn_index_function(embeddings_eurobert_short)"
   ]
  },
  {
   "cell_type": "code",
   "execution_count": 97,
   "id": "43df3a04-1492-4f9e-8ad8-0fe4365b7965",
   "metadata": {},
   "outputs": [],
   "source": [
    "# Dunn Index eurobert for long sentences\n",
    "dunn_eurobert_oti_ti_long, dunn_eurobert_ti_niet_long = dunn_index_function(embeddings_eurobert_long)"
   ]
  },
  {
   "cell_type": "code",
   "execution_count": 99,
   "id": "c80a3f9c-9adb-43cf-b410-1139b95afc6a",
   "metadata": {},
   "outputs": [],
   "source": [
    "# Dunn Index mbert for short sentences\n",
    "dunn_mbert_oti_ti_short, dunn_mbert_ti_niet_short = dunn_index_function(embeddings_mbert_short)"
   ]
  },
  {
   "cell_type": "code",
   "execution_count": 101,
   "id": "66a13432-c570-4203-99cd-7c8a1c9b3136",
   "metadata": {},
   "outputs": [],
   "source": [
    "# Dunn Index mbert for long sentences\n",
    "dunn_mbert_oti_ti_long, dunn_mbert_ti_niet_long = dunn_index_function(embeddings_mbert_long)"
   ]
  },
  {
   "cell_type": "markdown",
   "id": "bc12ca04-d451-4741-9e9d-d9823294cd2e",
   "metadata": {},
   "source": [
    "# Silhouette Score"
   ]
  },
  {
   "cell_type": "code",
   "execution_count": 19,
   "id": "167186a5-2e01-42b4-887a-2ceea05adc58",
   "metadata": {},
   "outputs": [],
   "source": [
    "def silhouette_score_function(df):\n",
    "    oti_and_ti = df[(df['Category'] == 'oti') | (df['Category'] == 'ti')]\n",
    "    labels_oti_and_ti = oti_and_ti['Category'].to_numpy()\n",
    "    oti_and_ti = np.stack(oti_and_ti['Sentence Embedding'].to_numpy())\n",
    "    ti_and_niet = df[(df['Category'] == 'ti') | (df['Category'] == 'niet + ti')]\n",
    "    labels_ti_and_niet = ti_and_niet['Category'].to_numpy()\n",
    "    ti_and_niet = np.stack(ti_and_niet['Sentence Embedding'].to_numpy())\n",
    "\n",
    "    ss_oti_ti = silhouette_score(oti_and_ti, labels_oti_and_ti)\n",
    "    ss_ti_niet = silhouette_score(ti_and_niet, labels_ti_and_niet)\n",
    "\n",
    "    return ss_oti_ti, ss_ti_niet"
   ]
  },
  {
   "cell_type": "code",
   "execution_count": 29,
   "id": "5fae62ae-b477-4bae-b343-6b76f80762c7",
   "metadata": {},
   "outputs": [],
   "source": [
    "# Silhouette Score for robbert\n",
    "ss_robbert_oti_ti, ss_robbert_ti_niet = silhouette_score_function(embeddings_robbert)"
   ]
  },
  {
   "cell_type": "code",
   "execution_count": 59,
   "id": "31073f3f-2c58-4bd3-bb30-cf9b3631eb98",
   "metadata": {},
   "outputs": [],
   "source": [
    "# Silhouette Score for bertje\n",
    "ss_bertje_oti_ti, ss_bertje_ti_niet = silhouette_score_function(embeddings_bertje)"
   ]
  },
  {
   "cell_type": "code",
   "execution_count": 61,
   "id": "5feeb807-8cd0-4811-8297-20a5fb6025e8",
   "metadata": {},
   "outputs": [],
   "source": [
    "# Silhouette Score for eurobert\n",
    "ss_eurobert_oti_ti, ss_eurobert_ti_niet = silhouette_score_function(embeddings_eurobert)"
   ]
  },
  {
   "cell_type": "code",
   "execution_count": 63,
   "id": "0e6e4628-2fdc-4746-bdee-69ad8db07290",
   "metadata": {},
   "outputs": [],
   "source": [
    "# Silhouette Score for mbert\n",
    "ss_mbert_oti_ti, ss_mbert_ti_niet = silhouette_score_function(embeddings_mbert)"
   ]
  },
  {
   "cell_type": "markdown",
   "id": "d039ee2a-20af-471a-8d22-aee497d54087",
   "metadata": {},
   "source": [
    "### Silhouette Score separated for sentence length"
   ]
  },
  {
   "cell_type": "code",
   "execution_count": 109,
   "id": "c6cf391c-be99-4d45-99d1-71d8cda28f34",
   "metadata": {},
   "outputs": [],
   "source": [
    "# Silhouette Score robbert for short sentences\n",
    "ss_robbert_oti_ti_short, ss_robbert_ti_niet_short = silhouette_score_function(embeddings_robbert_short)"
   ]
  },
  {
   "cell_type": "code",
   "execution_count": 111,
   "id": "22abc096-d598-42b5-a696-2a5f0df0549b",
   "metadata": {},
   "outputs": [],
   "source": [
    "# Silhouette Score robbert for long sentences\n",
    "ss_robbert_oti_ti_long, ss_robbert_ti_niet_long = silhouette_score_function(embeddings_robbert_long)"
   ]
  },
  {
   "cell_type": "code",
   "execution_count": 113,
   "id": "b44d9654-ad38-4354-9af2-b5bf83688ad7",
   "metadata": {},
   "outputs": [],
   "source": [
    "# Silhouette Score bertje for short sentences\n",
    "ss_bertje_oti_ti_short, ss_bertje_ti_niet_short = silhouette_score_function(embeddings_bertje_short)"
   ]
  },
  {
   "cell_type": "code",
   "execution_count": 115,
   "id": "7e90f62a-1574-419d-b980-2f2886ff7991",
   "metadata": {},
   "outputs": [],
   "source": [
    "# Silhouette Score bertje for long sentences\n",
    "ss_bertje_oti_ti_long, ss_bertje_ti_niet_long = silhouette_score_function(embeddings_bertje_long)"
   ]
  },
  {
   "cell_type": "code",
   "execution_count": 117,
   "id": "d99462ea-b8bb-42c3-ab06-f3e81eb4b26e",
   "metadata": {},
   "outputs": [],
   "source": [
    "# Silhouette Score eurobert for short sentences\n",
    "ss_eurobert_oti_ti_short, ss_eurobert_ti_niet_short = silhouette_score_function(embeddings_eurobert_short)"
   ]
  },
  {
   "cell_type": "code",
   "execution_count": 119,
   "id": "d13c3650-d5d8-4a71-b85d-72dbc47d7484",
   "metadata": {},
   "outputs": [],
   "source": [
    "# Silhouette Score eurobert for long sentences\n",
    "ss_eurobert_oti_ti_long, ss_eurobert_ti_niet_long = silhouette_score_function(embeddings_eurobert_long)"
   ]
  },
  {
   "cell_type": "code",
   "execution_count": 121,
   "id": "f98c8599-36f4-4283-9d36-75273031e349",
   "metadata": {},
   "outputs": [],
   "source": [
    "# Silhouette Score mbert for short sentences\n",
    "ss_mbert_oti_ti_short, ss_mbert_ti_niet_short = silhouette_score_function(embeddings_mbert_short)"
   ]
  },
  {
   "cell_type": "code",
   "execution_count": 123,
   "id": "2af69ad8-9558-417a-ae25-9594e6e453e4",
   "metadata": {},
   "outputs": [],
   "source": [
    "# Silhouette Score mbert for long sentences\n",
    "ss_mbert_oti_ti_long, ss_mbert_ti_niet_long = silhouette_score_function(embeddings_mbert_long)"
   ]
  },
  {
   "cell_type": "markdown",
   "id": "22ccc084-8950-47a8-895a-755df9e6d9c8",
   "metadata": {},
   "source": [
    "# Davies-Bouldin"
   ]
  },
  {
   "cell_type": "code",
   "execution_count": 31,
   "id": "7afb67b7-3c93-4b88-a320-78e573fe7183",
   "metadata": {},
   "outputs": [],
   "source": [
    "def davies_bouldin_function(df):\n",
    "    oti_and_ti = df[(df['Category'] == 'oti') | (df['Category'] == 'ti')]\n",
    "    labels_oti_and_ti = oti_and_ti['Category'].to_numpy()\n",
    "    oti_and_ti = np.stack(oti_and_ti['Sentence Embedding'].to_numpy())\n",
    "    ti_and_niet = df[(df['Category'] == 'ti') | (df['Category'] == 'niet + ti')]\n",
    "    labels_ti_and_niet = ti_and_niet['Category'].to_numpy()\n",
    "    ti_and_niet = np.stack(ti_and_niet['Sentence Embedding'].to_numpy())\n",
    "\n",
    "    db_oti_ti = davies_bouldin_score(oti_and_ti, labels_oti_and_ti)\n",
    "    db_ti_niet = davies_bouldin_score(ti_and_niet, labels_ti_and_niet)\n",
    "\n",
    "    return db_oti_ti, db_ti_niet"
   ]
  },
  {
   "cell_type": "code",
   "execution_count": 37,
   "id": "3159646b-ee80-41d1-8442-912a21947c21",
   "metadata": {},
   "outputs": [],
   "source": [
    "# Davies-Bouldin for robbert\n",
    "db_robbert_oti_ti, db_robbert_ti_niet = davies_bouldin_function(embeddings_robbert)"
   ]
  },
  {
   "cell_type": "code",
   "execution_count": 67,
   "id": "26150d20-b70b-4ca0-b75b-28e61c41bc68",
   "metadata": {},
   "outputs": [],
   "source": [
    "# Davies-Bouldin for bertje\n",
    "db_bertje_oti_ti, db_bertje_ti_niet = davies_bouldin_function(embeddings_bertje)"
   ]
  },
  {
   "cell_type": "code",
   "execution_count": 69,
   "id": "2d6fb6da-a875-4874-a426-f76f7b8870fa",
   "metadata": {},
   "outputs": [],
   "source": [
    "# Davies-Bouldin for eurobert\n",
    "db_eurobert_oti_ti, db_eurobert_ti_niet = davies_bouldin_function(embeddings_eurobert)"
   ]
  },
  {
   "cell_type": "code",
   "execution_count": 71,
   "id": "fde7885b-2b5a-4572-a5ed-2a16e0905cad",
   "metadata": {},
   "outputs": [],
   "source": [
    "# Davies-Bouldin for mbert\n",
    "db_mbert_oti_ti, db_mbert_ti_niet = davies_bouldin_function(embeddings_mbert)"
   ]
  },
  {
   "cell_type": "markdown",
   "id": "3ba79f08-8f32-4b20-9bd2-3319b102a16d",
   "metadata": {},
   "source": [
    "### Davies-Bouldin separated for sentence length"
   ]
  },
  {
   "cell_type": "code",
   "execution_count": 127,
   "id": "42611725-3e51-4c9d-9d77-3b029dd6e175",
   "metadata": {},
   "outputs": [],
   "source": [
    "# Davies-Bouldin robbert for short sentences\n",
    "db_robbert_oti_ti_short, db_robbert_ti_niet_short = davies_bouldin_function(embeddings_robbert_short)"
   ]
  },
  {
   "cell_type": "code",
   "execution_count": 129,
   "id": "24a7ede4-e352-420a-b23f-9271661693d6",
   "metadata": {},
   "outputs": [],
   "source": [
    "# Davies-Bouldin robbert for long sentences\n",
    "db_robbert_oti_ti_long, db_robbert_ti_niet_long = davies_bouldin_function(embeddings_robbert_long)"
   ]
  },
  {
   "cell_type": "code",
   "execution_count": 131,
   "id": "ce7622c2-94a5-435b-9d75-2580dea65e4a",
   "metadata": {},
   "outputs": [],
   "source": [
    "# Davies-Bouldin bertje for short sentences\n",
    "db_bertje_oti_ti_short, db_bertje_ti_niet_short = davies_bouldin_function(embeddings_bertje_short)"
   ]
  },
  {
   "cell_type": "code",
   "execution_count": 133,
   "id": "86e15944-f9b3-418e-8b9e-a0017c5ac350",
   "metadata": {},
   "outputs": [],
   "source": [
    "# Davies-Bouldin bertje for long sentences\n",
    "db_bertje_oti_ti_long, db_bertje_ti_niet_long = davies_bouldin_function(embeddings_bertje_long)"
   ]
  },
  {
   "cell_type": "code",
   "execution_count": 135,
   "id": "fd0777f6-d301-495e-a254-bad0e4ec641a",
   "metadata": {},
   "outputs": [],
   "source": [
    "# Davies-Bouldin eurobert for short sentences\n",
    "db_eurobert_oti_ti_short, db_eurobert_ti_niet_short = davies_bouldin_function(embeddings_eurobert_short)"
   ]
  },
  {
   "cell_type": "code",
   "execution_count": 137,
   "id": "68669d91-2da7-4b92-a20c-c4e8470d971a",
   "metadata": {},
   "outputs": [],
   "source": [
    "# Davies-Bouldin eurobert for long sentences\n",
    "db_eurobert_oti_ti_long, db_eurobert_ti_niet_long = davies_bouldin_function(embeddings_eurobert_long)"
   ]
  },
  {
   "cell_type": "code",
   "execution_count": 139,
   "id": "bb046959-cce0-44ad-a32f-8fb4e5b9d21a",
   "metadata": {},
   "outputs": [],
   "source": [
    "# Davies-Bouldin mbert for short sentences\n",
    "db_mbert_oti_ti_short, db_mbert_ti_niet_short = davies_bouldin_function(embeddings_mbert_short)"
   ]
  },
  {
   "cell_type": "code",
   "execution_count": 141,
   "id": "68ca0515-8d1b-4bd8-9d60-1a5f0f65d8df",
   "metadata": {},
   "outputs": [],
   "source": [
    "# Davies-Bouldin mbert for long sentences\n",
    "db_mbert_oti_ti_long, db_mbert_ti_niet_long = davies_bouldin_function(embeddings_mbert_long)"
   ]
  },
  {
   "cell_type": "markdown",
   "id": "45d802f9-bf04-4063-8017-5ee112b94ed5",
   "metadata": {},
   "source": [
    "# Results"
   ]
  },
  {
   "cell_type": "code",
   "execution_count": 143,
   "id": "0893b15a-aea1-4fa0-82f5-2e2fdb26feb7",
   "metadata": {},
   "outputs": [
    {
     "name": "stdout",
     "output_type": "stream",
     "text": [
      "Results\n",
      "Dunn Index\n",
      "RobBERT oti and ti:         0.24541259004165045\n",
      "RobBERT ti and niet + ti:   0.40224013893114685\n",
      "BERTje oti and ti:          0.31446887967615533\n",
      "BERTje ti and niet + ti:    0.4503033671037969\n",
      "EuroBERT oti and ti:        0.2456777669868236\n",
      "EuroBERT ti and niet + ti:  0.28840210859371224\n",
      "mBERT oti and ti:           0.23583257239452401\n",
      "mBERT ti and niet + ti:     0.3508677568831722\n",
      "\n",
      "Silhouette Score\n",
      "RobBERT oti and ti:         -0.015133923477955325\n",
      "RobBERT ti and niet + ti:   0.0041578264983435755\n",
      "BERTje oti and ti:          -0.01056265283245486\n",
      "BERTje ti and niet + ti:    0.007540324331943194\n",
      "EuroBERT oti and ti:        -0.0025166321914998125\n",
      "EuroBERT ti and niet + ti:  -0.03810416153165687\n",
      "mBERT oti and ti:           -0.013087713152090013\n",
      "mBERT ti and niet + ti:     0.01862568598979452\n",
      "\n",
      "Davies-Bouldin Index\n",
      "RobBERT oti and ti:         9.317769157408414\n",
      "RobBERT ti and niet + ti:   3.942926546306441\n",
      "BERTje oti and ti:          8.943409524962938\n",
      "BERTje ti and niet + ti:    3.776897442410708\n",
      "EuroBERT oti and ti:        11.039207454529153\n",
      "EuroBERT ti and niet + ti:  3.986459524022998\n",
      "mBERT oti and ti:           11.221576981588855\n",
      "mBERT ti and niet + ti:     4.037120626723485\n",
      "\n",
      "Results sentence length\n",
      "Dunn Index for short sentences\n",
      "RobBERT oti and ti:         0.39683478861782173\n",
      "RobBERT ti and niet + ti:   0.4335433847914422\n",
      "BERTje oti and ti:          0.44604019380843585\n",
      "BERTje ti and niet + ti:    0.46652417581017824\n",
      "EuroBERT oti and ti:        0.3034107187237032\n",
      "EuroBERT ti and niet + ti:  0.3166157185295486\n",
      "mBERT oti and ti:           0.3523665302351716\n",
      "mBERT ti and niet + ti:     0.38291517818504645\n",
      "\n",
      "Dunn Index for long sentences\n",
      "RobBERT oti and ti:         0.33006845402453316\n",
      "RobBERT ti and niet + ti:   0.5409941714118434\n",
      "BERTje oti and ti:          0.3701598879310189\n",
      "BERTje ti and niet + ti:    0.530050045250124\n",
      "EuroBERT oti and ti:        0.2839930810442489\n",
      "EuroBERT ti and niet + ti:  0.3333806082810056\n",
      "mBERT oti and ti:           0.33129406489419705\n",
      "mBERT ti and niet + ti:     0.4928937688203501\n",
      "\n",
      "Silhouette Score for short sentences\n",
      "RobBERT oti and ti:         -0.01667545024786978\n",
      "RobBERT ti and niet + ti:   0.029454977105506507\n",
      "BERTje oti and ti:          -0.00786998968259642\n",
      "BERTje ti and niet + ti:    0.0032004546565464072\n",
      "EuroBERT oti and ti:        -0.01123405419952486\n",
      "EuroBERT ti and niet + ti:  -0.015913949441548007\n",
      "mBERT oti and ti:           -0.007341453775992343\n",
      "mBERT ti and niet + ti:     0.043542454895451006\n",
      "\n",
      "Silhouette Score for long sentences\n",
      "RobBERT oti and ti:         -0.0027863124833581755\n",
      "RobBERT ti and niet + ti:   -0.038967065228504315\n",
      "BERTje oti and ti:          -0.0001375388522390765\n",
      "BERTje ti and niet + ti:    0.00341493246443485\n",
      "EuroBERT oti and ti:        0.0036340227223510603\n",
      "EuroBERT ti and niet + ti:  -0.060724273671991916\n",
      "mBERT oti and ti:           -0.004588656024716149\n",
      "mBERT ti and niet + ti:     -0.022417461605424592\n",
      "\n",
      "Davies-Bouldin Index for short sentences\n",
      "RobBERT oti and ti:         6.326052783337088\n",
      "RobBERT ti and niet + ti:   2.6166834952091915\n",
      "BERTje oti and ti:          6.089024651311226\n",
      "BERTje ti and niet + ti:    2.742793148576469\n",
      "EuroBERT oti and ti:        7.764101211045147\n",
      "EuroBERT ti and niet + ti:  2.9353563791543116\n",
      "mBERT oti and ti:           7.075676904310487\n",
      "mBERT ti and niet + ti:     2.766985278873481\n",
      "\n",
      "Davies-Bouldin Index for long sentences\n",
      "RobBERT oti and ti:         10.112675180031006\n",
      "RobBERT ti and niet + ti:   2.9321791267942507\n",
      "BERTje oti and ti:          9.31380572795071\n",
      "BERTje ti and niet + ti:    2.880645906017177\n",
      "EuroBERT oti and ti:        11.373568536267266\n",
      "EuroBERT ti and niet + ti:  2.982953678978023\n",
      "mBERT oti and ti:           11.099291984840276\n",
      "mBERT ti and niet + ti:     2.965053617433611\n"
     ]
    }
   ],
   "source": [
    "# print all results\n",
    "print('Results')\n",
    "print('Dunn Index')\n",
    "print('RobBERT oti and ti:        ', dunn_robbert_oti_ti)\n",
    "print('RobBERT ti and niet + ti:  ', dunn_robbert_ti_niet)\n",
    "print('BERTje oti and ti:         ', dunn_bertje_oti_ti)\n",
    "print('BERTje ti and niet + ti:   ', dunn_bertje_ti_niet)\n",
    "print('EuroBERT oti and ti:       ', dunn_eurobert_oti_ti)\n",
    "print('EuroBERT ti and niet + ti: ', dunn_eurobert_ti_niet)\n",
    "print('mBERT oti and ti:          ', dunn_mbert_oti_ti)\n",
    "print('mBERT ti and niet + ti:    ', dunn_mbert_ti_niet)\n",
    "print()\n",
    "print('Silhouette Score')\n",
    "print('RobBERT oti and ti:        ', ss_robbert_oti_ti)\n",
    "print('RobBERT ti and niet + ti:  ', ss_robbert_ti_niet)\n",
    "print('BERTje oti and ti:         ', ss_bertje_oti_ti)\n",
    "print('BERTje ti and niet + ti:   ', ss_bertje_ti_niet)\n",
    "print('EuroBERT oti and ti:       ', ss_eurobert_oti_ti)\n",
    "print('EuroBERT ti and niet + ti: ', ss_eurobert_ti_niet)\n",
    "print('mBERT oti and ti:          ', ss_mbert_oti_ti)\n",
    "print('mBERT ti and niet + ti:    ', ss_mbert_ti_niet)\n",
    "print()\n",
    "print('Davies-Bouldin Index')\n",
    "print('RobBERT oti and ti:        ', db_robbert_oti_ti)\n",
    "print('RobBERT ti and niet + ti:  ', db_robbert_ti_niet)\n",
    "print('BERTje oti and ti:         ', db_bertje_oti_ti)\n",
    "print('BERTje ti and niet + ti:   ', db_bertje_ti_niet)\n",
    "print('EuroBERT oti and ti:       ', db_eurobert_oti_ti)\n",
    "print('EuroBERT ti and niet + ti: ', db_eurobert_ti_niet)\n",
    "print('mBERT oti and ti:          ', db_mbert_oti_ti)\n",
    "print('mBERT ti and niet + ti:    ', db_mbert_ti_niet)\n",
    "print()\n",
    "print('Results sentence length')\n",
    "print('Dunn Index for short sentences')\n",
    "print('RobBERT oti and ti:        ', dunn_robbert_oti_ti_short)\n",
    "print('RobBERT ti and niet + ti:  ', dunn_robbert_ti_niet_short)\n",
    "print('BERTje oti and ti:         ', dunn_bertje_oti_ti_short)\n",
    "print('BERTje ti and niet + ti:   ', dunn_bertje_ti_niet_short)\n",
    "print('EuroBERT oti and ti:       ', dunn_eurobert_oti_ti_short)\n",
    "print('EuroBERT ti and niet + ti: ', dunn_eurobert_ti_niet_short)\n",
    "print('mBERT oti and ti:          ', dunn_mbert_oti_ti_short)\n",
    "print('mBERT ti and niet + ti:    ', dunn_mbert_ti_niet_short)\n",
    "print()\n",
    "print('Dunn Index for long sentences')\n",
    "print('RobBERT oti and ti:        ', dunn_robbert_oti_ti_long)\n",
    "print('RobBERT ti and niet + ti:  ', dunn_robbert_ti_niet_long)\n",
    "print('BERTje oti and ti:         ', dunn_bertje_oti_ti_long)\n",
    "print('BERTje ti and niet + ti:   ', dunn_bertje_ti_niet_long)\n",
    "print('EuroBERT oti and ti:       ', dunn_eurobert_oti_ti_long)\n",
    "print('EuroBERT ti and niet + ti: ', dunn_eurobert_ti_niet_long)\n",
    "print('mBERT oti and ti:          ', dunn_mbert_oti_ti_long)\n",
    "print('mBERT ti and niet + ti:    ', dunn_mbert_ti_niet_long)\n",
    "print()\n",
    "print('Silhouette Score for short sentences')\n",
    "print('RobBERT oti and ti:        ', ss_robbert_oti_ti_short)\n",
    "print('RobBERT ti and niet + ti:  ', ss_robbert_ti_niet_short)\n",
    "print('BERTje oti and ti:         ', ss_bertje_oti_ti_short)\n",
    "print('BERTje ti and niet + ti:   ', ss_bertje_ti_niet_short)\n",
    "print('EuroBERT oti and ti:       ', ss_eurobert_oti_ti_short)\n",
    "print('EuroBERT ti and niet + ti: ', ss_eurobert_ti_niet_short)\n",
    "print('mBERT oti and ti:          ', ss_mbert_oti_ti_short)\n",
    "print('mBERT ti and niet + ti:    ', ss_mbert_ti_niet_short)\n",
    "print()\n",
    "print('Silhouette Score for long sentences')\n",
    "print('RobBERT oti and ti:        ', ss_robbert_oti_ti_long)\n",
    "print('RobBERT ti and niet + ti:  ', ss_robbert_ti_niet_long)\n",
    "print('BERTje oti and ti:         ', ss_bertje_oti_ti_long)\n",
    "print('BERTje ti and niet + ti:   ', ss_bertje_ti_niet_long)\n",
    "print('EuroBERT oti and ti:       ', ss_eurobert_oti_ti_long)\n",
    "print('EuroBERT ti and niet + ti: ', ss_eurobert_ti_niet_long)\n",
    "print('mBERT oti and ti:          ', ss_mbert_oti_ti_long)\n",
    "print('mBERT ti and niet + ti:    ', ss_mbert_ti_niet_long)\n",
    "print()\n",
    "print('Davies-Bouldin Index for short sentences')\n",
    "print('RobBERT oti and ti:        ', db_robbert_oti_ti_short)\n",
    "print('RobBERT ti and niet + ti:  ', db_robbert_ti_niet_short)\n",
    "print('BERTje oti and ti:         ', db_bertje_oti_ti_short)\n",
    "print('BERTje ti and niet + ti:   ', db_bertje_ti_niet_short)\n",
    "print('EuroBERT oti and ti:       ', db_eurobert_oti_ti_short)\n",
    "print('EuroBERT ti and niet + ti: ', db_eurobert_ti_niet_short)\n",
    "print('mBERT oti and ti:          ', db_mbert_oti_ti_short)\n",
    "print('mBERT ti and niet + ti:    ', db_mbert_ti_niet_short)\n",
    "print()\n",
    "print('Davies-Bouldin Index for long sentences')\n",
    "print('RobBERT oti and ti:        ', db_robbert_oti_ti_long)\n",
    "print('RobBERT ti and niet + ti:  ', db_robbert_ti_niet_long)\n",
    "print('BERTje oti and ti:         ', db_bertje_oti_ti_long)\n",
    "print('BERTje ti and niet + ti:   ', db_bertje_ti_niet_long)\n",
    "print('EuroBERT oti and ti:       ', db_eurobert_oti_ti_long)\n",
    "print('EuroBERT ti and niet + ti: ', db_eurobert_ti_niet_long)\n",
    "print('mBERT oti and ti:          ', db_mbert_oti_ti_long)\n",
    "print('mBERT ti and niet + ti:    ', db_mbert_ti_niet_long)"
   ]
  }
 ],
 "metadata": {
  "kernelspec": {
   "display_name": "Python 3 (ipykernel)",
   "language": "python",
   "name": "python3"
  },
  "language_info": {
   "codemirror_mode": {
    "name": "ipython",
    "version": 3
   },
   "file_extension": ".py",
   "mimetype": "text/x-python",
   "name": "python",
   "nbconvert_exporter": "python",
   "pygments_lexer": "ipython3",
   "version": "3.12.4"
  }
 },
 "nbformat": 4,
 "nbformat_minor": 5
}
